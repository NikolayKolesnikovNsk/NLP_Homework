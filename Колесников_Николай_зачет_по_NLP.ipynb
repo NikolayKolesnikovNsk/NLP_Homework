{
  "nbformat": 4,
  "nbformat_minor": 0,
  "metadata": {
    "colab": {
      "name": "Колесников Николай зачет по NLP",
      "provenance": [],
      "collapsed_sections": []
    },
    "kernelspec": {
      "name": "python3",
      "display_name": "Python 3"
    },
    "language_info": {
      "name": "python"
    }
  },
  "cells": [
    {
      "cell_type": "markdown",
      "metadata": {
        "id": "2KgyJ44VNYNg"
      },
      "source": [
        "# Домашнее задание - практика на основе кода лекции\n",
        "\n",
        "\n",
        "Вам нужно будет скопировать нужные куски кода и немного их трансформировать чтобы они помогли решить поставленные задачи. \n",
        "\n",
        "*Использовать большие куски готового кода в анализе данных частая практика. Цель понять данные и каким-то образом, нужным нам их трансформировать, а код - просто инструмент.*\n"
      ]
    },
    {
      "cell_type": "markdown",
      "metadata": {
        "id": "4YFypaIgNg4I"
      },
      "source": [
        "## Подгрузка данных\n",
        "\n",
        "Здесь подгружается другой датасет"
      ]
    },
    {
      "cell_type": "code",
      "metadata": {
        "colab": {
          "base_uri": "https://localhost:8080/"
        },
        "id": "U2keS3acFYIJ",
        "outputId": "5c0c0c64-b950-4098-cac2-620204a8e8dd"
      },
      "source": [
        "!gdown --id 1KRpL2q6RZn1YHI2IfFeTKxuKpEUQNenZ"
      ],
      "execution_count": null,
      "outputs": [
        {
          "output_type": "stream",
          "name": "stdout",
          "text": [
            "Downloading...\n",
            "From: https://drive.google.com/uc?id=1KRpL2q6RZn1YHI2IfFeTKxuKpEUQNenZ\n",
            "To: /content/groups.csv\n",
            "\r  0% 0.00/206k [00:00<?, ?B/s]\r100% 206k/206k [00:00<00:00, 23.1MB/s]\n"
          ]
        }
      ]
    },
    {
      "cell_type": "code",
      "metadata": {
        "id": "Mr5-1og6GUSU"
      },
      "source": [
        "import pandas as pd # Библиотека для работы с таблицами\n",
        "import numpy as np # Библиотека для работы с массивами и матрицами\n",
        "import matplotlib.pyplot as plt"
      ],
      "execution_count": null,
      "outputs": []
    },
    {
      "cell_type": "code",
      "metadata": {
        "id": "Ynx_mAofGWq7"
      },
      "source": [
        "df = pd.read_csv('groups.csv',';').drop('Unnamed: 4',axis = 1)\n",
        "classes = {class_:i for i, class_ in enumerate(df['Предмет'].unique())}\n",
        "df['label'] = df['Предмет'].replace(classes)"
      ],
      "execution_count": null,
      "outputs": []
    },
    {
      "cell_type": "code",
      "metadata": {
        "colab": {
          "base_uri": "https://localhost:8080/",
          "height": 424
        },
        "id": "CXRwc7m5wAGs",
        "outputId": "dfe0dcfe-56e9-4a35-c647-f6ca8dd38e67"
      },
      "source": [
        "df"
      ],
      "execution_count": null,
      "outputs": [
        {
          "output_type": "execute_result",
          "data": {
            "text/html": [
              "<div>\n",
              "<style scoped>\n",
              "    .dataframe tbody tr th:only-of-type {\n",
              "        vertical-align: middle;\n",
              "    }\n",
              "\n",
              "    .dataframe tbody tr th {\n",
              "        vertical-align: top;\n",
              "    }\n",
              "\n",
              "    .dataframe thead th {\n",
              "        text-align: right;\n",
              "    }\n",
              "</style>\n",
              "<table border=\"1\" class=\"dataframe\">\n",
              "  <thead>\n",
              "    <tr style=\"text-align: right;\">\n",
              "      <th></th>\n",
              "      <th>id</th>\n",
              "      <th>URL</th>\n",
              "      <th>Название</th>\n",
              "      <th>Предмет</th>\n",
              "      <th>label</th>\n",
              "    </tr>\n",
              "  </thead>\n",
              "  <tbody>\n",
              "    <tr>\n",
              "      <th>0</th>\n",
              "      <td>72894053</td>\n",
              "      <td>https://vk.com/club72894053</td>\n",
              "      <td>Биология: материалы к олимпиадам и экзаменам</td>\n",
              "      <td>биология</td>\n",
              "      <td>0</td>\n",
              "    </tr>\n",
              "    <tr>\n",
              "      <th>1</th>\n",
              "      <td>47693493</td>\n",
              "      <td>https://vk.com/club47693493</td>\n",
              "      <td>Биология+химия-easy;) c Aleksandra LearnBiolog...</td>\n",
              "      <td>биология</td>\n",
              "      <td>0</td>\n",
              "    </tr>\n",
              "    <tr>\n",
              "      <th>2</th>\n",
              "      <td>37948240</td>\n",
              "      <td>https://vk.com/club37948240</td>\n",
              "      <td>Биология</td>\n",
              "      <td>биология</td>\n",
              "      <td>0</td>\n",
              "    </tr>\n",
              "    <tr>\n",
              "      <th>3</th>\n",
              "      <td>109143834</td>\n",
              "      <td>https://vk.com/club109143834</td>\n",
              "      <td>B.o.S - Биология Спорта</td>\n",
              "      <td>биология</td>\n",
              "      <td>0</td>\n",
              "    </tr>\n",
              "    <tr>\n",
              "      <th>4</th>\n",
              "      <td>32140813</td>\n",
              "      <td>https://vk.com/club32140813</td>\n",
              "      <td>Углублённый Биолог</td>\n",
              "      <td>биология</td>\n",
              "      <td>0</td>\n",
              "    </tr>\n",
              "    <tr>\n",
              "      <th>...</th>\n",
              "      <td>...</td>\n",
              "      <td>...</td>\n",
              "      <td>...</td>\n",
              "      <td>...</td>\n",
              "      <td>...</td>\n",
              "    </tr>\n",
              "    <tr>\n",
              "      <th>1784</th>\n",
              "      <td>43732804</td>\n",
              "      <td>https://vk.com/club43732804</td>\n",
              "      <td>Кодексы и законы РФ</td>\n",
              "      <td>юриспруденция</td>\n",
              "      <td>18</td>\n",
              "    </tr>\n",
              "    <tr>\n",
              "      <th>1785</th>\n",
              "      <td>28799949</td>\n",
              "      <td>https://vk.com/club28799949</td>\n",
              "      <td>Закон.ру</td>\n",
              "      <td>юриспруденция</td>\n",
              "      <td>18</td>\n",
              "    </tr>\n",
              "    <tr>\n",
              "      <th>1786</th>\n",
              "      <td>42832964</td>\n",
              "      <td>https://vk.com/club42832964</td>\n",
              "      <td>Колледж АлтГУ</td>\n",
              "      <td>вуз</td>\n",
              "      <td>19</td>\n",
              "    </tr>\n",
              "    <tr>\n",
              "      <th>1787</th>\n",
              "      <td>40575907</td>\n",
              "      <td>https://vk.com/club40575907</td>\n",
              "      <td>КиберЛенинка</td>\n",
              "      <td>наука</td>\n",
              "      <td>20</td>\n",
              "    </tr>\n",
              "    <tr>\n",
              "      <th>1788</th>\n",
              "      <td>938295</td>\n",
              "      <td>https://vk.com/club938295</td>\n",
              "      <td>ИРНИТУ (ИрГТУ)</td>\n",
              "      <td>вуз</td>\n",
              "      <td>19</td>\n",
              "    </tr>\n",
              "  </tbody>\n",
              "</table>\n",
              "<p>1789 rows × 5 columns</p>\n",
              "</div>"
            ],
            "text/plain": [
              "             id                           URL  ...        Предмет label\n",
              "0      72894053   https://vk.com/club72894053  ...       биология     0\n",
              "1      47693493   https://vk.com/club47693493  ...       биология     0\n",
              "2      37948240   https://vk.com/club37948240  ...       биология     0\n",
              "3     109143834  https://vk.com/club109143834  ...       биология     0\n",
              "4      32140813   https://vk.com/club32140813  ...       биология     0\n",
              "...         ...                           ...  ...            ...   ...\n",
              "1784   43732804   https://vk.com/club43732804  ...  юриспруденция    18\n",
              "1785   28799949   https://vk.com/club28799949  ...  юриспруденция    18\n",
              "1786   42832964   https://vk.com/club42832964  ...            вуз    19\n",
              "1787   40575907   https://vk.com/club40575907  ...          наука    20\n",
              "1788     938295     https://vk.com/club938295  ...            вуз    19\n",
              "\n",
              "[1789 rows x 5 columns]"
            ]
          },
          "metadata": {},
          "execution_count": 4
        }
      ]
    },
    {
      "cell_type": "markdown",
      "metadata": {
        "id": "uuk5Q0F3L-bx"
      },
      "source": [
        "## Обзор данных - что у нас за данные? (занятие 1)\n",
        "\n",
        "Задания:\n",
        "\n",
        "\n",
        "*   Наривсовать pie диограмму или гистограмму на основе колнки предметов. Или другими способами узнать балланс классов(число экземпляров каждого класса)\n",
        "*   Посмотреть среднее количество слов колонки `Название`\n",
        "\n"
      ]
    },
    {
      "cell_type": "markdown",
      "metadata": {
        "id": "MtJzU_8GQBvE"
      },
      "source": [
        "# **Решение**\n",
        "\n",
        "\n",
        "\n",
        "\n",
        "\n",
        "\n",
        "\n"
      ]
    },
    {
      "cell_type": "code",
      "metadata": {
        "colab": {
          "base_uri": "https://localhost:8080/"
        },
        "id": "-wFAs7cza3fv",
        "outputId": "9f13a2a5-ad5f-4812-cf14-72a2ac8b9526"
      },
      "source": [
        "df.info()"
      ],
      "execution_count": null,
      "outputs": [
        {
          "output_type": "stream",
          "name": "stdout",
          "text": [
            "<class 'pandas.core.frame.DataFrame'>\n",
            "RangeIndex: 1789 entries, 0 to 1788\n",
            "Data columns (total 5 columns):\n",
            " #   Column    Non-Null Count  Dtype \n",
            "---  ------    --------------  ----- \n",
            " 0   id        1789 non-null   int64 \n",
            " 1   URL       1789 non-null   object\n",
            " 2   Название  1789 non-null   object\n",
            " 3   Предмет   1789 non-null   object\n",
            " 4   label     1789 non-null   int64 \n",
            "dtypes: int64(2), object(3)\n",
            "memory usage: 70.0+ KB\n"
          ]
        }
      ]
    },
    {
      "cell_type": "code",
      "metadata": {
        "colab": {
          "base_uri": "https://localhost:8080/"
        },
        "id": "vkUgjTZExvCH",
        "outputId": "15b340e1-1895-4cc2-cde8-bf80ac8b037d"
      },
      "source": [
        " df['Предмет'].value_counts()"
      ],
      "execution_count": null,
      "outputs": [
        {
          "output_type": "execute_result",
          "data": {
            "text/plain": [
              "учёба (курсы, программы, ЕГЭ)    263\n",
              "иностранные языки                256\n",
              "литература                       174\n",
              "психология                       150\n",
              "искусство                        146\n",
              "история                          114\n",
              "вуз                               85\n",
              "обществознание                    83\n",
              "математика                        78\n",
              "техника и технологии              76\n",
              "химия                             49\n",
              "русский язык                      49\n",
              "биология                          49\n",
              "культура                          45\n",
              "физика                            45\n",
              "информатика                       25\n",
              "география                         24\n",
              "философия                         23\n",
              "юриспруденция                     17\n",
              "геометрия                         14\n",
              "наука                             14\n",
              "философия и эзотерика             10\n",
              "Name: Предмет, dtype: int64"
            ]
          },
          "metadata": {},
          "execution_count": 6
        }
      ]
    },
    {
      "cell_type": "code",
      "metadata": {
        "colab": {
          "base_uri": "https://localhost:8080/"
        },
        "id": "I2BdLwkTbH_W",
        "outputId": "b1ef27e8-8145-41c7-ee4a-c7deed0afdda"
      },
      "source": [
        "df['Предмет']"
      ],
      "execution_count": null,
      "outputs": [
        {
          "output_type": "execute_result",
          "data": {
            "text/plain": [
              "0            биология\n",
              "1            биология\n",
              "2            биология\n",
              "3            биология\n",
              "4            биология\n",
              "            ...      \n",
              "1784    юриспруденция\n",
              "1785    юриспруденция\n",
              "1786              вуз\n",
              "1787            наука\n",
              "1788              вуз\n",
              "Name: Предмет, Length: 1789, dtype: object"
            ]
          },
          "metadata": {},
          "execution_count": 7
        }
      ]
    },
    {
      "cell_type": "code",
      "metadata": {
        "colab": {
          "base_uri": "https://localhost:8080/",
          "height": 739
        },
        "id": "zI7IenWS87qh",
        "outputId": "79c311df-58cf-4be5-e2a3-e4581d21b85c"
      },
      "source": [
        "value_counts = df['Предмет'].value_counts()\n",
        "\n",
        "# преобразование в df и присвоение новых имен колонкам\n",
        "df_value_counts = pd.DataFrame(value_counts)\n",
        "df_value_counts = df_value_counts.reset_index()\n",
        "df_value_counts.columns = ['Предмет', 'Количество']\n",
        "df_value_counts\n",
        "#df_value_counts.info()"
      ],
      "execution_count": null,
      "outputs": [
        {
          "output_type": "execute_result",
          "data": {
            "text/html": [
              "<div>\n",
              "<style scoped>\n",
              "    .dataframe tbody tr th:only-of-type {\n",
              "        vertical-align: middle;\n",
              "    }\n",
              "\n",
              "    .dataframe tbody tr th {\n",
              "        vertical-align: top;\n",
              "    }\n",
              "\n",
              "    .dataframe thead th {\n",
              "        text-align: right;\n",
              "    }\n",
              "</style>\n",
              "<table border=\"1\" class=\"dataframe\">\n",
              "  <thead>\n",
              "    <tr style=\"text-align: right;\">\n",
              "      <th></th>\n",
              "      <th>Предмет</th>\n",
              "      <th>Количество</th>\n",
              "    </tr>\n",
              "  </thead>\n",
              "  <tbody>\n",
              "    <tr>\n",
              "      <th>0</th>\n",
              "      <td>учёба (курсы, программы, ЕГЭ)</td>\n",
              "      <td>263</td>\n",
              "    </tr>\n",
              "    <tr>\n",
              "      <th>1</th>\n",
              "      <td>иностранные языки</td>\n",
              "      <td>256</td>\n",
              "    </tr>\n",
              "    <tr>\n",
              "      <th>2</th>\n",
              "      <td>литература</td>\n",
              "      <td>174</td>\n",
              "    </tr>\n",
              "    <tr>\n",
              "      <th>3</th>\n",
              "      <td>психология</td>\n",
              "      <td>150</td>\n",
              "    </tr>\n",
              "    <tr>\n",
              "      <th>4</th>\n",
              "      <td>искусство</td>\n",
              "      <td>146</td>\n",
              "    </tr>\n",
              "    <tr>\n",
              "      <th>5</th>\n",
              "      <td>история</td>\n",
              "      <td>114</td>\n",
              "    </tr>\n",
              "    <tr>\n",
              "      <th>6</th>\n",
              "      <td>вуз</td>\n",
              "      <td>85</td>\n",
              "    </tr>\n",
              "    <tr>\n",
              "      <th>7</th>\n",
              "      <td>обществознание</td>\n",
              "      <td>83</td>\n",
              "    </tr>\n",
              "    <tr>\n",
              "      <th>8</th>\n",
              "      <td>математика</td>\n",
              "      <td>78</td>\n",
              "    </tr>\n",
              "    <tr>\n",
              "      <th>9</th>\n",
              "      <td>техника и технологии</td>\n",
              "      <td>76</td>\n",
              "    </tr>\n",
              "    <tr>\n",
              "      <th>10</th>\n",
              "      <td>химия</td>\n",
              "      <td>49</td>\n",
              "    </tr>\n",
              "    <tr>\n",
              "      <th>11</th>\n",
              "      <td>русский язык</td>\n",
              "      <td>49</td>\n",
              "    </tr>\n",
              "    <tr>\n",
              "      <th>12</th>\n",
              "      <td>биология</td>\n",
              "      <td>49</td>\n",
              "    </tr>\n",
              "    <tr>\n",
              "      <th>13</th>\n",
              "      <td>культура</td>\n",
              "      <td>45</td>\n",
              "    </tr>\n",
              "    <tr>\n",
              "      <th>14</th>\n",
              "      <td>физика</td>\n",
              "      <td>45</td>\n",
              "    </tr>\n",
              "    <tr>\n",
              "      <th>15</th>\n",
              "      <td>информатика</td>\n",
              "      <td>25</td>\n",
              "    </tr>\n",
              "    <tr>\n",
              "      <th>16</th>\n",
              "      <td>география</td>\n",
              "      <td>24</td>\n",
              "    </tr>\n",
              "    <tr>\n",
              "      <th>17</th>\n",
              "      <td>философия</td>\n",
              "      <td>23</td>\n",
              "    </tr>\n",
              "    <tr>\n",
              "      <th>18</th>\n",
              "      <td>юриспруденция</td>\n",
              "      <td>17</td>\n",
              "    </tr>\n",
              "    <tr>\n",
              "      <th>19</th>\n",
              "      <td>геометрия</td>\n",
              "      <td>14</td>\n",
              "    </tr>\n",
              "    <tr>\n",
              "      <th>20</th>\n",
              "      <td>наука</td>\n",
              "      <td>14</td>\n",
              "    </tr>\n",
              "    <tr>\n",
              "      <th>21</th>\n",
              "      <td>философия и эзотерика</td>\n",
              "      <td>10</td>\n",
              "    </tr>\n",
              "  </tbody>\n",
              "</table>\n",
              "</div>"
            ],
            "text/plain": [
              "                          Предмет  Количество\n",
              "0   учёба (курсы, программы, ЕГЭ)         263\n",
              "1               иностранные языки         256\n",
              "2                      литература         174\n",
              "3                      психология         150\n",
              "4                       искусство         146\n",
              "5                         история         114\n",
              "6                             вуз          85\n",
              "7                  обществознание          83\n",
              "8                      математика          78\n",
              "9            техника и технологии          76\n",
              "10                          химия          49\n",
              "11                   русский язык          49\n",
              "12                       биология          49\n",
              "13                       культура          45\n",
              "14                         физика          45\n",
              "15                    информатика          25\n",
              "16                      география          24\n",
              "17                      философия          23\n",
              "18                  юриспруденция          17\n",
              "19                      геометрия          14\n",
              "20                          наука          14\n",
              "21          философия и эзотерика          10"
            ]
          },
          "metadata": {},
          "execution_count": 8
        }
      ]
    },
    {
      "cell_type": "code",
      "metadata": {
        "id": "tjVvAILD5FhN"
      },
      "source": [
        "df_value_counts.set_index('Предмет', inplace=True)"
      ],
      "execution_count": null,
      "outputs": []
    },
    {
      "cell_type": "code",
      "metadata": {
        "colab": {
          "base_uri": "https://localhost:8080/"
        },
        "id": "987nBeTc337x",
        "outputId": "e6650381-3826-43a2-dae5-0d7fdda0bef6"
      },
      "source": [
        "df_value_counts.info()"
      ],
      "execution_count": null,
      "outputs": [
        {
          "output_type": "stream",
          "name": "stdout",
          "text": [
            "<class 'pandas.core.frame.DataFrame'>\n",
            "Index: 22 entries, учёба (курсы, программы, ЕГЭ) to философия и эзотерика\n",
            "Data columns (total 1 columns):\n",
            " #   Column      Non-Null Count  Dtype\n",
            "---  ------      --------------  -----\n",
            " 0   Количество  22 non-null     int64\n",
            "dtypes: int64(1)\n",
            "memory usage: 352.0+ bytes\n"
          ]
        }
      ]
    },
    {
      "cell_type": "code",
      "metadata": {
        "colab": {
          "base_uri": "https://localhost:8080/",
          "height": 771
        },
        "id": "nFkOaRAU5zfM",
        "outputId": "85bd4d37-1974-4467-ce11-de468b18baf2"
      },
      "source": [
        "df_value_counts"
      ],
      "execution_count": null,
      "outputs": [
        {
          "output_type": "execute_result",
          "data": {
            "text/html": [
              "<div>\n",
              "<style scoped>\n",
              "    .dataframe tbody tr th:only-of-type {\n",
              "        vertical-align: middle;\n",
              "    }\n",
              "\n",
              "    .dataframe tbody tr th {\n",
              "        vertical-align: top;\n",
              "    }\n",
              "\n",
              "    .dataframe thead th {\n",
              "        text-align: right;\n",
              "    }\n",
              "</style>\n",
              "<table border=\"1\" class=\"dataframe\">\n",
              "  <thead>\n",
              "    <tr style=\"text-align: right;\">\n",
              "      <th></th>\n",
              "      <th>Количество</th>\n",
              "    </tr>\n",
              "    <tr>\n",
              "      <th>Предмет</th>\n",
              "      <th></th>\n",
              "    </tr>\n",
              "  </thead>\n",
              "  <tbody>\n",
              "    <tr>\n",
              "      <th>учёба (курсы, программы, ЕГЭ)</th>\n",
              "      <td>263</td>\n",
              "    </tr>\n",
              "    <tr>\n",
              "      <th>иностранные языки</th>\n",
              "      <td>256</td>\n",
              "    </tr>\n",
              "    <tr>\n",
              "      <th>литература</th>\n",
              "      <td>174</td>\n",
              "    </tr>\n",
              "    <tr>\n",
              "      <th>психология</th>\n",
              "      <td>150</td>\n",
              "    </tr>\n",
              "    <tr>\n",
              "      <th>искусство</th>\n",
              "      <td>146</td>\n",
              "    </tr>\n",
              "    <tr>\n",
              "      <th>история</th>\n",
              "      <td>114</td>\n",
              "    </tr>\n",
              "    <tr>\n",
              "      <th>вуз</th>\n",
              "      <td>85</td>\n",
              "    </tr>\n",
              "    <tr>\n",
              "      <th>обществознание</th>\n",
              "      <td>83</td>\n",
              "    </tr>\n",
              "    <tr>\n",
              "      <th>математика</th>\n",
              "      <td>78</td>\n",
              "    </tr>\n",
              "    <tr>\n",
              "      <th>техника и технологии</th>\n",
              "      <td>76</td>\n",
              "    </tr>\n",
              "    <tr>\n",
              "      <th>химия</th>\n",
              "      <td>49</td>\n",
              "    </tr>\n",
              "    <tr>\n",
              "      <th>русский язык</th>\n",
              "      <td>49</td>\n",
              "    </tr>\n",
              "    <tr>\n",
              "      <th>биология</th>\n",
              "      <td>49</td>\n",
              "    </tr>\n",
              "    <tr>\n",
              "      <th>культура</th>\n",
              "      <td>45</td>\n",
              "    </tr>\n",
              "    <tr>\n",
              "      <th>физика</th>\n",
              "      <td>45</td>\n",
              "    </tr>\n",
              "    <tr>\n",
              "      <th>информатика</th>\n",
              "      <td>25</td>\n",
              "    </tr>\n",
              "    <tr>\n",
              "      <th>география</th>\n",
              "      <td>24</td>\n",
              "    </tr>\n",
              "    <tr>\n",
              "      <th>философия</th>\n",
              "      <td>23</td>\n",
              "    </tr>\n",
              "    <tr>\n",
              "      <th>юриспруденция</th>\n",
              "      <td>17</td>\n",
              "    </tr>\n",
              "    <tr>\n",
              "      <th>геометрия</th>\n",
              "      <td>14</td>\n",
              "    </tr>\n",
              "    <tr>\n",
              "      <th>наука</th>\n",
              "      <td>14</td>\n",
              "    </tr>\n",
              "    <tr>\n",
              "      <th>философия и эзотерика</th>\n",
              "      <td>10</td>\n",
              "    </tr>\n",
              "  </tbody>\n",
              "</table>\n",
              "</div>"
            ],
            "text/plain": [
              "                               Количество\n",
              "Предмет                                  \n",
              "учёба (курсы, программы, ЕГЭ)         263\n",
              "иностранные языки                     256\n",
              "литература                            174\n",
              "психология                            150\n",
              "искусство                             146\n",
              "история                               114\n",
              "вуз                                    85\n",
              "обществознание                         83\n",
              "математика                             78\n",
              "техника и технологии                   76\n",
              "химия                                  49\n",
              "русский язык                           49\n",
              "биология                               49\n",
              "культура                               45\n",
              "физика                                 45\n",
              "информатика                            25\n",
              "география                              24\n",
              "философия                              23\n",
              "юриспруденция                          17\n",
              "геометрия                              14\n",
              "наука                                  14\n",
              "философия и эзотерика                  10"
            ]
          },
          "metadata": {},
          "execution_count": 11
        }
      ]
    },
    {
      "cell_type": "code",
      "metadata": {
        "colab": {
          "base_uri": "https://localhost:8080/",
          "height": 825
        },
        "id": "alu8gGiXS4UM",
        "outputId": "defefb3d-b584-422d-f1a5-7bfbab6f6556"
      },
      "source": [
        "df_value_counts.plot.pie(y = 'Количество', title = \"Предмет\", legend = False, autopct='%1.1f%%', figsize=(14,14))   \n",
        "\n"
      ],
      "execution_count": null,
      "outputs": [
        {
          "output_type": "execute_result",
          "data": {
            "text/plain": [
              "<matplotlib.axes._subplots.AxesSubplot at 0x7f0ee99b2410>"
            ]
          },
          "metadata": {},
          "execution_count": 12
        },
        {
          "output_type": "display_data",
          "data": {
            "image/png": "[encoded data removed]",
            "text/plain": [
              "<Figure size 1008x1008 with 1 Axes>"
            ]
          },
          "metadata": {}
        }
      ]
    },
    {
      "cell_type": "code",
      "metadata": {
        "colab": {
          "base_uri": "https://localhost:8080/",
          "height": 323
        },
        "id": "jngpGusiQgBY",
        "outputId": "98cafae0-e7cd-497e-8d2b-4a70dc869905"
      },
      "source": [
        "vals = df['Предмет'].value_counts().values\n",
        "labels = df['Предмет'].value_counts().index\n",
        "fig, ax = plt.subplots()\n",
        "ax.pie(vals, labels=labels)\n",
        "ax.axis(\"equal\")"
      ],
      "execution_count": null,
      "outputs": [
        {
          "output_type": "execute_result",
          "data": {
            "text/plain": [
              "(-1.1037866919673494,\n",
              " 1.1001803189701271,\n",
              " -1.1013848842172296,\n",
              " 1.1106302513725594)"
            ]
          },
          "metadata": {},
          "execution_count": 13
        },
        {
          "output_type": "display_data",
          "data": {
            "image/png": "[encoded data removed]",
            "text/plain": [
              "<Figure size 432x288 with 1 Axes>"
            ]
          },
          "metadata": {}
        }
      ]
    },
    {
      "cell_type": "code",
      "metadata": {
        "colab": {
          "base_uri": "https://localhost:8080/",
          "height": 809
        },
        "id": "49g8eub3Pxls",
        "outputId": "9abd08a4-86e6-4000-b251-af7665ecdd9b"
      },
      "source": [
        "df['Предмет'].value_counts().plot.pie(autopct='%1.1f%%', figsize=(14,14))"
      ],
      "execution_count": null,
      "outputs": [
        {
          "output_type": "execute_result",
          "data": {
            "text/plain": [
              "<matplotlib.axes._subplots.AxesSubplot at 0x7f0ee0e6b410>"
            ]
          },
          "metadata": {},
          "execution_count": 14
        },
        {
          "output_type": "display_data",
          "data": {
            "image/png": "[encoded data removed]",
            "text/plain": [
              "<Figure size 1008x1008 with 1 Axes>"
            ]
          },
          "metadata": {}
        }
      ]
    },
    {
      "cell_type": "markdown",
      "metadata": {
        "id": "qPxN9hEl6348"
      },
      "source": [
        "Посмотреть среднее количество слов колонки Название"
      ]
    },
    {
      "cell_type": "code",
      "metadata": {
        "id": "2dFEH3f_67fc"
      },
      "source": [
        "count_words = lambda x: len(x.split())\n",
        "\n",
        "def count_words(x):\n",
        "  return len(x.split())"
      ],
      "execution_count": null,
      "outputs": []
    },
    {
      "cell_type": "code",
      "metadata": {
        "id": "X7fZHv4L7j8H"
      },
      "source": [
        "df['count_words'] = df['Название'].apply(count_words)"
      ],
      "execution_count": null,
      "outputs": []
    },
    {
      "cell_type": "code",
      "metadata": {
        "colab": {
          "base_uri": "https://localhost:8080/",
          "height": 424
        },
        "id": "dyoCGpmB9LwA",
        "outputId": "e0b25a37-0039-4782-bbe1-70b9f322be66"
      },
      "source": [
        "df"
      ],
      "execution_count": null,
      "outputs": [
        {
          "output_type": "execute_result",
          "data": {
            "text/html": [
              "<div>\n",
              "<style scoped>\n",
              "    .dataframe tbody tr th:only-of-type {\n",
              "        vertical-align: middle;\n",
              "    }\n",
              "\n",
              "    .dataframe tbody tr th {\n",
              "        vertical-align: top;\n",
              "    }\n",
              "\n",
              "    .dataframe thead th {\n",
              "        text-align: right;\n",
              "    }\n",
              "</style>\n",
              "<table border=\"1\" class=\"dataframe\">\n",
              "  <thead>\n",
              "    <tr style=\"text-align: right;\">\n",
              "      <th></th>\n",
              "      <th>id</th>\n",
              "      <th>URL</th>\n",
              "      <th>Название</th>\n",
              "      <th>Предмет</th>\n",
              "      <th>label</th>\n",
              "      <th>count_words</th>\n",
              "    </tr>\n",
              "  </thead>\n",
              "  <tbody>\n",
              "    <tr>\n",
              "      <th>0</th>\n",
              "      <td>72894053</td>\n",
              "      <td>https://vk.com/club72894053</td>\n",
              "      <td>Биология: материалы к олимпиадам и экзаменам</td>\n",
              "      <td>биология</td>\n",
              "      <td>0</td>\n",
              "      <td>6</td>\n",
              "    </tr>\n",
              "    <tr>\n",
              "      <th>1</th>\n",
              "      <td>47693493</td>\n",
              "      <td>https://vk.com/club47693493</td>\n",
              "      <td>Биология+химия-easy;) c Aleksandra LearnBiolog...</td>\n",
              "      <td>биология</td>\n",
              "      <td>0</td>\n",
              "      <td>4</td>\n",
              "    </tr>\n",
              "    <tr>\n",
              "      <th>2</th>\n",
              "      <td>37948240</td>\n",
              "      <td>https://vk.com/club37948240</td>\n",
              "      <td>Биология</td>\n",
              "      <td>биология</td>\n",
              "      <td>0</td>\n",
              "      <td>1</td>\n",
              "    </tr>\n",
              "    <tr>\n",
              "      <th>3</th>\n",
              "      <td>109143834</td>\n",
              "      <td>https://vk.com/club109143834</td>\n",
              "      <td>B.o.S - Биология Спорта</td>\n",
              "      <td>биология</td>\n",
              "      <td>0</td>\n",
              "      <td>4</td>\n",
              "    </tr>\n",
              "    <tr>\n",
              "      <th>4</th>\n",
              "      <td>32140813</td>\n",
              "      <td>https://vk.com/club32140813</td>\n",
              "      <td>Углублённый Биолог</td>\n",
              "      <td>биология</td>\n",
              "      <td>0</td>\n",
              "      <td>2</td>\n",
              "    </tr>\n",
              "    <tr>\n",
              "      <th>...</th>\n",
              "      <td>...</td>\n",
              "      <td>...</td>\n",
              "      <td>...</td>\n",
              "      <td>...</td>\n",
              "      <td>...</td>\n",
              "      <td>...</td>\n",
              "    </tr>\n",
              "    <tr>\n",
              "      <th>1784</th>\n",
              "      <td>43732804</td>\n",
              "      <td>https://vk.com/club43732804</td>\n",
              "      <td>Кодексы и законы РФ</td>\n",
              "      <td>юриспруденция</td>\n",
              "      <td>18</td>\n",
              "      <td>4</td>\n",
              "    </tr>\n",
              "    <tr>\n",
              "      <th>1785</th>\n",
              "      <td>28799949</td>\n",
              "      <td>https://vk.com/club28799949</td>\n",
              "      <td>Закон.ру</td>\n",
              "      <td>юриспруденция</td>\n",
              "      <td>18</td>\n",
              "      <td>1</td>\n",
              "    </tr>\n",
              "    <tr>\n",
              "      <th>1786</th>\n",
              "      <td>42832964</td>\n",
              "      <td>https://vk.com/club42832964</td>\n",
              "      <td>Колледж АлтГУ</td>\n",
              "      <td>вуз</td>\n",
              "      <td>19</td>\n",
              "      <td>2</td>\n",
              "    </tr>\n",
              "    <tr>\n",
              "      <th>1787</th>\n",
              "      <td>40575907</td>\n",
              "      <td>https://vk.com/club40575907</td>\n",
              "      <td>КиберЛенинка</td>\n",
              "      <td>наука</td>\n",
              "      <td>20</td>\n",
              "      <td>1</td>\n",
              "    </tr>\n",
              "    <tr>\n",
              "      <th>1788</th>\n",
              "      <td>938295</td>\n",
              "      <td>https://vk.com/club938295</td>\n",
              "      <td>ИРНИТУ (ИрГТУ)</td>\n",
              "      <td>вуз</td>\n",
              "      <td>19</td>\n",
              "      <td>2</td>\n",
              "    </tr>\n",
              "  </tbody>\n",
              "</table>\n",
              "<p>1789 rows × 6 columns</p>\n",
              "</div>"
            ],
            "text/plain": [
              "             id                           URL  ... label count_words\n",
              "0      72894053   https://vk.com/club72894053  ...     0           6\n",
              "1      47693493   https://vk.com/club47693493  ...     0           4\n",
              "2      37948240   https://vk.com/club37948240  ...     0           1\n",
              "3     109143834  https://vk.com/club109143834  ...     0           4\n",
              "4      32140813   https://vk.com/club32140813  ...     0           2\n",
              "...         ...                           ...  ...   ...         ...\n",
              "1784   43732804   https://vk.com/club43732804  ...    18           4\n",
              "1785   28799949   https://vk.com/club28799949  ...    18           1\n",
              "1786   42832964   https://vk.com/club42832964  ...    19           2\n",
              "1787   40575907   https://vk.com/club40575907  ...    20           1\n",
              "1788     938295     https://vk.com/club938295  ...    19           2\n",
              "\n",
              "[1789 rows x 6 columns]"
            ]
          },
          "metadata": {},
          "execution_count": 17
        }
      ]
    },
    {
      "cell_type": "code",
      "metadata": {
        "colab": {
          "base_uri": "https://localhost:8080/"
        },
        "id": "2vSRahWS9bUf",
        "outputId": "6a9c6549-37a4-4ffd-e341-22fa9eb4631d"
      },
      "source": [
        "df['count_words'].mean()"
      ],
      "execution_count": null,
      "outputs": [
        {
          "output_type": "execute_result",
          "data": {
            "text/plain": [
              "3.777529346003354"
            ]
          },
          "metadata": {},
          "execution_count": 18
        }
      ]
    },
    {
      "cell_type": "code",
      "metadata": {
        "colab": {
          "base_uri": "https://localhost:8080/"
        },
        "id": "nnAJwABfDxyF",
        "outputId": "6a74d0ec-9c2f-4697-aa28-d80aec928291"
      },
      "source": [
        "df['count_words'].max()"
      ],
      "execution_count": null,
      "outputs": [
        {
          "output_type": "execute_result",
          "data": {
            "text/plain": [
              "10"
            ]
          },
          "metadata": {},
          "execution_count": 19
        }
      ]
    },
    {
      "cell_type": "code",
      "metadata": {
        "colab": {
          "base_uri": "https://localhost:8080/",
          "height": 265
        },
        "id": "1t6Z5zoA-3Y-",
        "outputId": "c6bdf4f6-6739-4d37-cbc8-8c49db9f7c38"
      },
      "source": [
        "plt.hist(df['count_words'], bins= 10)    \n",
        "plt.show()"
      ],
      "execution_count": null,
      "outputs": [
        {
          "output_type": "display_data",
          "data": {
            "image/png": "[encoded data removed]",
            "text/plain": [
              "<Figure size 432x288 with 1 Axes>"
            ]
          },
          "metadata": {
            "needs_background": "light"
          }
        }
      ]
    },
    {
      "cell_type": "markdown",
      "metadata": {
        "id": "Xe3fVyiZNCL4"
      },
      "source": [
        "# Обработка данных\n",
        "\n",
        "Задания:\n",
        "\n",
        "*   Сделать стеммированную колонку в **df** на основе колонки **df**['Название']. \n",
        "*   Очистить от стоп слов, пунктуации \n"
      ]
    },
    {
      "cell_type": "code",
      "metadata": {
        "colab": {
          "base_uri": "https://localhost:8080/"
        },
        "id": "zFbljvKi2oRt",
        "outputId": "a166b0d8-a5d8-4f77-c242-6dcc77fb6c2e"
      },
      "source": [
        "from sklearn.model_selection import cross_val_score # функция подсчета точности\n",
        "from sklearn.model_selection import train_test_split # функция разбиения на обучающую и тестовую выборку\n",
        "from sklearn.feature_extraction.text import TfidfVectorizer # векторайзер - преобразует тексты в машинный вид\n",
        "from sklearn.linear_model import LinearRegression # Модель машинного обучения\n",
        "from sklearn.metrics import mean_absolute_error # Метрика для оценки ошибки\n",
        "\n",
        "import nltk # Библиотека для работы с текстами\n",
        "from nltk.tokenize import word_tokenize, sent_tokenize # токенайзер - разбивает непрерывный текст на токены(слова)\n",
        "from nltk.stem.snowball import SnowballStemmer # стеммер - преобразует тексты к начальной форме\n",
        "from nltk.corpus import stopwords # список незначимых слов - я, ты, он, она, там и тд\n",
        "\n",
        "nltk.download('all')\n",
        "nltk.download('punkt')\n",
        "nltk.download('stopwords')"
      ],
      "execution_count": null,
      "outputs": [
        {
          "output_type": "stream",
          "name": "stdout",
          "text": [
            "[nltk_data] Downloading collection 'all'\n",
            "[nltk_data]    | \n",
            "[nltk_data]    | Downloading package abc to /root/nltk_data...\n",
            "[nltk_data]    |   Unzipping corpora/abc.zip.\n",
            "[nltk_data]    | Downloading package alpino to /root/nltk_data...\n",
            "[nltk_data]    |   Unzipping corpora/alpino.zip.\n",
            "[nltk_data]    | Downloading package biocreative_ppi to\n",
            "[nltk_data]    |     /root/nltk_data...\n",
            "[nltk_data]    |   Unzipping corpora/biocreative_ppi.zip.\n",
            "[nltk_data]    | Downloading package brown to /root/nltk_data...\n",
            "[nltk_data]    |   Unzipping corpora/brown.zip.\n",
            "[nltk_data]    | Downloading package brown_tei to /root/nltk_data...\n",
            "[nltk_data]    |   Unzipping corpora/brown_tei.zip.\n",
            "[nltk_data]    | Downloading package cess_cat to /root/nltk_data...\n",
            "[nltk_data]    |   Unzipping corpora/cess_cat.zip.\n",
            "[nltk_data]    | Downloading package cess_esp to /root/nltk_data...\n",
            "[nltk_data]    |   Unzipping corpora/cess_esp.zip.\n",
            "[nltk_data]    | Downloading package chat80 to /root/nltk_data...\n",
            "[nltk_data]    |   Unzipping corpora/chat80.zip.\n",
            "[nltk_data]    | Downloading package city_database to\n",
            "[nltk_data]    |     /root/nltk_data...\n",
            "[nltk_data]    |   Unzipping corpora/city_database.zip.\n",
            "[nltk_data]    | Downloading package cmudict to /root/nltk_data...\n",
            "[nltk_data]    |   Unzipping corpora/cmudict.zip.\n",
            "[nltk_data]    | Downloading package comparative_sentences to\n",
            "[nltk_data]    |     /root/nltk_data...\n",
            "[nltk_data]    |   Unzipping corpora/comparative_sentences.zip.\n",
            "[nltk_data]    | Downloading package comtrans to /root/nltk_data...\n",
            "[nltk_data]    | Downloading package conll2000 to /root/nltk_data...\n",
            "[nltk_data]    |   Unzipping corpora/conll2000.zip.\n",
            "[nltk_data]    | Downloading package conll2002 to /root/nltk_data...\n",
            "[nltk_data]    |   Unzipping corpora/conll2002.zip.\n",
            "[nltk_data]    | Downloading package conll2007 to /root/nltk_data...\n",
            "[nltk_data]    | Downloading package crubadan to /root/nltk_data...\n",
            "[nltk_data]    |   Unzipping corpora/crubadan.zip.\n",
            "[nltk_data]    | Downloading package dependency_treebank to\n",
            "[nltk_data]    |     /root/nltk_data...\n",
            "[nltk_data]    |   Unzipping corpora/dependency_treebank.zip.\n",
            "[nltk_data]    | Downloading package dolch to /root/nltk_data...\n",
            "[nltk_data]    |   Unzipping corpora/dolch.zip.\n",
            "[nltk_data]    | Downloading package europarl_raw to\n",
            "[nltk_data]    |     /root/nltk_data...\n",
            "[nltk_data]    |   Unzipping corpora/europarl_raw.zip.\n",
            "[nltk_data]    | Downloading package floresta to /root/nltk_data...\n",
            "[nltk_data]    |   Unzipping corpora/floresta.zip.\n",
            "[nltk_data]    | Downloading package framenet_v15 to\n",
            "[nltk_data]    |     /root/nltk_data...\n",
            "[nltk_data]    |   Unzipping corpora/framenet_v15.zip.\n",
            "[nltk_data]    | Downloading package framenet_v17 to\n",
            "[nltk_data]    |     /root/nltk_data...\n",
            "[nltk_data]    |   Unzipping corpora/framenet_v17.zip.\n",
            "[nltk_data]    | Downloading package gazetteers to /root/nltk_data...\n",
            "[nltk_data]    |   Unzipping corpora/gazetteers.zip.\n",
            "[nltk_data]    | Downloading package genesis to /root/nltk_data...\n",
            "[nltk_data]    |   Unzipping corpora/genesis.zip.\n",
            "[nltk_data]    | Downloading package gutenberg to /root/nltk_data...\n",
            "[nltk_data]    |   Unzipping corpora/gutenberg.zip.\n",
            "[nltk_data]    | Downloading package ieer to /root/nltk_data...\n",
            "[nltk_data]    |   Unzipping corpora/ieer.zip.\n",
            "[nltk_data]    | Downloading package inaugural to /root/nltk_data...\n",
            "[nltk_data]    |   Unzipping corpora/inaugural.zip.\n",
            "[nltk_data]    | Downloading package indian to /root/nltk_data...\n",
            "[nltk_data]    |   Unzipping corpora/indian.zip.\n",
            "[nltk_data]    | Downloading package jeita to /root/nltk_data...\n",
            "[nltk_data]    | Downloading package kimmo to /root/nltk_data...\n",
            "[nltk_data]    |   Unzipping corpora/kimmo.zip.\n",
            "[nltk_data]    | Downloading package knbc to /root/nltk_data...\n",
            "[nltk_data]    | Downloading package lin_thesaurus to\n",
            "[nltk_data]    |     /root/nltk_data...\n",
            "[nltk_data]    |   Unzipping corpora/lin_thesaurus.zip.\n",
            "[nltk_data]    | Downloading package mac_morpho to /root/nltk_data...\n",
            "[nltk_data]    |   Unzipping corpora/mac_morpho.zip.\n",
            "[nltk_data]    | Downloading package machado to /root/nltk_data...\n",
            "[nltk_data]    | Downloading package masc_tagged to /root/nltk_data...\n",
            "[nltk_data]    | Downloading package moses_sample to\n",
            "[nltk_data]    |     /root/nltk_data...\n",
            "[nltk_data]    |   Unzipping models/moses_sample.zip.\n",
            "[nltk_data]    | Downloading package movie_reviews to\n",
            "[nltk_data]    |     /root/nltk_data...\n",
            "[nltk_data]    |   Unzipping corpora/movie_reviews.zip.\n",
            "[nltk_data]    | Downloading package names to /root/nltk_data...\n",
            "[nltk_data]    |   Unzipping corpora/names.zip.\n",
            "[nltk_data]    | Downloading package nombank.1.0 to /root/nltk_data...\n",
            "[nltk_data]    | Downloading package nps_chat to /root/nltk_data...\n",
            "[nltk_data]    |   Unzipping corpora/nps_chat.zip.\n",
            "[nltk_data]    | Downloading package omw to /root/nltk_data...\n",
            "[nltk_data]    |   Unzipping corpora/omw.zip.\n",
            "[nltk_data]    | Downloading package opinion_lexicon to\n",
            "[nltk_data]    |     /root/nltk_data...\n",
            "[nltk_data]    |   Unzipping corpora/opinion_lexicon.zip.\n",
            "[nltk_data]    | Downloading package paradigms to /root/nltk_data...\n",
            "[nltk_data]    |   Unzipping corpora/paradigms.zip.\n",
            "[nltk_data]    | Downloading package pil to /root/nltk_data...\n",
            "[nltk_data]    |   Unzipping corpora/pil.zip.\n",
            "[nltk_data]    | Downloading package pl196x to /root/nltk_data...\n",
            "[nltk_data]    |   Unzipping corpora/pl196x.zip.\n",
            "[nltk_data]    | Downloading package ppattach to /root/nltk_data...\n",
            "[nltk_data]    |   Unzipping corpora/ppattach.zip.\n",
            "[nltk_data]    | Downloading package problem_reports to\n",
            "[nltk_data]    |     /root/nltk_data...\n",
            "[nltk_data]    |   Unzipping corpora/problem_reports.zip.\n",
            "[nltk_data]    | Downloading package propbank to /root/nltk_data...\n",
            "[nltk_data]    | Downloading package ptb to /root/nltk_data...\n",
            "[nltk_data]    |   Unzipping corpora/ptb.zip.\n",
            "[nltk_data]    | Downloading package product_reviews_1 to\n",
            "[nltk_data]    |     /root/nltk_data...\n",
            "[nltk_data]    |   Unzipping corpora/product_reviews_1.zip.\n",
            "[nltk_data]    | Downloading package product_reviews_2 to\n",
            "[nltk_data]    |     /root/nltk_data...\n",
            "[nltk_data]    |   Unzipping corpora/product_reviews_2.zip.\n",
            "[nltk_data]    | Downloading package pros_cons to /root/nltk_data...\n",
            "[nltk_data]    |   Unzipping corpora/pros_cons.zip.\n",
            "[nltk_data]    | Downloading package qc to /root/nltk_data...\n",
            "[nltk_data]    |   Unzipping corpora/qc.zip.\n",
            "[nltk_data]    | Downloading package reuters to /root/nltk_data...\n",
            "[nltk_data]    | Downloading package rte to /root/nltk_data...\n",
            "[nltk_data]    |   Unzipping corpora/rte.zip.\n",
            "[nltk_data]    | Downloading package semcor to /root/nltk_data...\n",
            "[nltk_data]    | Downloading package senseval to /root/nltk_data...\n",
            "[nltk_data]    |   Unzipping corpora/senseval.zip.\n",
            "[nltk_data]    | Downloading package sentiwordnet to\n",
            "[nltk_data]    |     /root/nltk_data...\n",
            "[nltk_data]    |   Unzipping corpora/sentiwordnet.zip.\n",
            "[nltk_data]    | Downloading package sentence_polarity to\n",
            "[nltk_data]    |     /root/nltk_data...\n",
            "[nltk_data]    |   Unzipping corpora/sentence_polarity.zip.\n",
            "[nltk_data]    | Downloading package shakespeare to /root/nltk_data...\n",
            "[nltk_data]    |   Unzipping corpora/shakespeare.zip.\n",
            "[nltk_data]    | Downloading package sinica_treebank to\n",
            "[nltk_data]    |     /root/nltk_data...\n",
            "[nltk_data]    |   Unzipping corpora/sinica_treebank.zip.\n",
            "[nltk_data]    | Downloading package smultron to /root/nltk_data...\n",
            "[nltk_data]    |   Unzipping corpora/smultron.zip.\n",
            "[nltk_data]    | Downloading package state_union to /root/nltk_data...\n",
            "[nltk_data]    |   Unzipping corpora/state_union.zip.\n",
            "[nltk_data]    | Downloading package stopwords to /root/nltk_data...\n",
            "[nltk_data]    |   Unzipping corpora/stopwords.zip.\n",
            "[nltk_data]    | Downloading package subjectivity to\n",
            "[nltk_data]    |     /root/nltk_data...\n",
            "[nltk_data]    |   Unzipping corpora/subjectivity.zip.\n",
            "[nltk_data]    | Downloading package swadesh to /root/nltk_data...\n",
            "[nltk_data]    |   Unzipping corpora/swadesh.zip.\n",
            "[nltk_data]    | Downloading package switchboard to /root/nltk_data...\n",
            "[nltk_data]    |   Unzipping corpora/switchboard.zip.\n",
            "[nltk_data]    | Downloading package timit to /root/nltk_data...\n",
            "[nltk_data]    |   Unzipping corpora/timit.zip.\n",
            "[nltk_data]    | Downloading package toolbox to /root/nltk_data...\n",
            "[nltk_data]    |   Unzipping corpora/toolbox.zip.\n",
            "[nltk_data]    | Downloading package treebank to /root/nltk_data...\n",
            "[nltk_data]    |   Unzipping corpora/treebank.zip.\n",
            "[nltk_data]    | Downloading package twitter_samples to\n",
            "[nltk_data]    |     /root/nltk_data...\n",
            "[nltk_data]    |   Unzipping corpora/twitter_samples.zip.\n",
            "[nltk_data]    | Downloading package udhr to /root/nltk_data...\n",
            "[nltk_data]    |   Unzipping corpora/udhr.zip.\n",
            "[nltk_data]    | Downloading package udhr2 to /root/nltk_data...\n",
            "[nltk_data]    |   Unzipping corpora/udhr2.zip.\n",
            "[nltk_data]    | Downloading package unicode_samples to\n",
            "[nltk_data]    |     /root/nltk_data...\n",
            "[nltk_data]    |   Unzipping corpora/unicode_samples.zip.\n",
            "[nltk_data]    | Downloading package universal_treebanks_v20 to\n",
            "[nltk_data]    |     /root/nltk_data...\n",
            "[nltk_data]    | Downloading package verbnet to /root/nltk_data...\n",
            "[nltk_data]    |   Unzipping corpora/verbnet.zip.\n",
            "[nltk_data]    | Downloading package verbnet3 to /root/nltk_data...\n",
            "[nltk_data]    |   Unzipping corpora/verbnet3.zip.\n",
            "[nltk_data]    | Downloading package webtext to /root/nltk_data...\n",
            "[nltk_data]    |   Unzipping corpora/webtext.zip.\n",
            "[nltk_data]    | Downloading package wordnet to /root/nltk_data...\n",
            "[nltk_data]    |   Unzipping corpora/wordnet.zip.\n",
            "[nltk_data]    | Downloading package wordnet31 to /root/nltk_data...\n",
            "[nltk_data]    |   Unzipping corpora/wordnet31.zip.\n",
            "[nltk_data]    | Downloading package wordnet_ic to /root/nltk_data...\n",
            "[nltk_data]    |   Unzipping corpora/wordnet_ic.zip.\n",
            "[nltk_data]    | Downloading package words to /root/nltk_data...\n",
            "[nltk_data]    |   Unzipping corpora/words.zip.\n",
            "[nltk_data]    | Downloading package ycoe to /root/nltk_data...\n",
            "[nltk_data]    |   Unzipping corpora/ycoe.zip.\n",
            "[nltk_data]    | Downloading package rslp to /root/nltk_data...\n",
            "[nltk_data]    |   Unzipping stemmers/rslp.zip.\n",
            "[nltk_data]    | Downloading package maxent_treebank_pos_tagger to\n",
            "[nltk_data]    |     /root/nltk_data...\n",
            "[nltk_data]    |   Unzipping taggers/maxent_treebank_pos_tagger.zip.\n",
            "[nltk_data]    | Downloading package universal_tagset to\n",
            "[nltk_data]    |     /root/nltk_data...\n",
            "[nltk_data]    |   Unzipping taggers/universal_tagset.zip.\n",
            "[nltk_data]    | Downloading package maxent_ne_chunker to\n",
            "[nltk_data]    |     /root/nltk_data...\n",
            "[nltk_data]    |   Unzipping chunkers/maxent_ne_chunker.zip.\n",
            "[nltk_data]    | Downloading package punkt to /root/nltk_data...\n",
            "[nltk_data]    |   Unzipping tokenizers/punkt.zip.\n",
            "[nltk_data]    | Downloading package book_grammars to\n",
            "[nltk_data]    |     /root/nltk_data...\n",
            "[nltk_data]    |   Unzipping grammars/book_grammars.zip.\n",
            "[nltk_data]    | Downloading package sample_grammars to\n",
            "[nltk_data]    |     /root/nltk_data...\n",
            "[nltk_data]    |   Unzipping grammars/sample_grammars.zip.\n",
            "[nltk_data]    | Downloading package spanish_grammars to\n",
            "[nltk_data]    |     /root/nltk_data...\n",
            "[nltk_data]    |   Unzipping grammars/spanish_grammars.zip.\n",
            "[nltk_data]    | Downloading package basque_grammars to\n",
            "[nltk_data]    |     /root/nltk_data...\n",
            "[nltk_data]    |   Unzipping grammars/basque_grammars.zip.\n",
            "[nltk_data]    | Downloading package large_grammars to\n",
            "[nltk_data]    |     /root/nltk_data...\n",
            "[nltk_data]    |   Unzipping grammars/large_grammars.zip.\n",
            "[nltk_data]    | Downloading package tagsets to /root/nltk_data...\n",
            "[nltk_data]    |   Unzipping help/tagsets.zip.\n",
            "[nltk_data]    | Downloading package snowball_data to\n",
            "[nltk_data]    |     /root/nltk_data...\n",
            "[nltk_data]    | Downloading package bllip_wsj_no_aux to\n",
            "[nltk_data]    |     /root/nltk_data...\n",
            "[nltk_data]    |   Unzipping models/bllip_wsj_no_aux.zip.\n",
            "[nltk_data]    | Downloading package word2vec_sample to\n",
            "[nltk_data]    |     /root/nltk_data...\n",
            "[nltk_data]    |   Unzipping models/word2vec_sample.zip.\n",
            "[nltk_data]    | Downloading package panlex_swadesh to\n",
            "[nltk_data]    |     /root/nltk_data...\n",
            "[nltk_data]    | Downloading package mte_teip5 to /root/nltk_data...\n",
            "[nltk_data]    |   Unzipping corpora/mte_teip5.zip.\n",
            "[nltk_data]    | Downloading package averaged_perceptron_tagger to\n",
            "[nltk_data]    |     /root/nltk_data...\n",
            "[nltk_data]    |   Unzipping taggers/averaged_perceptron_tagger.zip.\n",
            "[nltk_data]    | Downloading package averaged_perceptron_tagger_ru to\n",
            "[nltk_data]    |     /root/nltk_data...\n",
            "[nltk_data]    |   Unzipping\n",
            "[nltk_data]    |       taggers/averaged_perceptron_tagger_ru.zip.\n",
            "[nltk_data]    | Downloading package perluniprops to\n",
            "[nltk_data]    |     /root/nltk_data...\n",
            "[nltk_data]    |   Unzipping misc/perluniprops.zip.\n",
            "[nltk_data]    | Downloading package nonbreaking_prefixes to\n",
            "[nltk_data]    |     /root/nltk_data...\n",
            "[nltk_data]    |   Unzipping corpora/nonbreaking_prefixes.zip.\n",
            "[nltk_data]    | Downloading package vader_lexicon to\n",
            "[nltk_data]    |     /root/nltk_data...\n",
            "[nltk_data]    | Downloading package porter_test to /root/nltk_data...\n",
            "[nltk_data]    |   Unzipping stemmers/porter_test.zip.\n",
            "[nltk_data]    | Downloading package wmt15_eval to /root/nltk_data...\n",
            "[nltk_data]    |   Unzipping models/wmt15_eval.zip.\n",
            "[nltk_data]    | Downloading package mwa_ppdb to /root/nltk_data...\n",
            "[nltk_data]    |   Unzipping misc/mwa_ppdb.zip.\n",
            "[nltk_data]    | \n",
            "[nltk_data]  Done downloading collection all\n",
            "[nltk_data] Downloading package punkt to /root/nltk_data...\n",
            "[nltk_data]   Package punkt is already up-to-date!\n",
            "[nltk_data] Downloading package stopwords to /root/nltk_data...\n",
            "[nltk_data]   Package stopwords is already up-to-date!\n"
          ]
        },
        {
          "output_type": "execute_result",
          "data": {
            "text/plain": [
              "True"
            ]
          },
          "metadata": {},
          "execution_count": 21
        }
      ]
    },
    {
      "cell_type": "code",
      "metadata": {
        "id": "XbDiap7d3MFG"
      },
      "source": [
        "#stemmer_ru = SnowballStemmer(\"russian\") \n",
        "#ru_stop_words = set(stopwords.words('russian'))\n",
        "#def stemm_text(text, stemmer, stop_words):\n",
        "#   \"\"\"принимает на вход предложение и возвращает леммы токенов предложения, фильтруя по стоп словам\"\"\"\n",
        "#   tokens = [stemmer.stem(word) for word in word_tokenize(text.lower()) if word not in stop_words]\n",
        "#   tokens = ' '.join(tokens)\n",
        "#   return tokens\n",
        "\n",
        "\n",
        "#df['stemmed_overview'] = df['Название'].apply(lambda x: stemm_text(x, stemmer_ru, ru_stop_words)) # генерируем колонку stemmed_overview, прогоняя значения колонки overview через функцию обработки\n",
        "\n"
      ],
      "execution_count": null,
      "outputs": []
    },
    {
      "cell_type": "code",
      "metadata": {
        "id": "gKaok1jzzvI4"
      },
      "source": [
        "def text_processing(text, stemmer, stop_words, punct):\n",
        "    \"\"\"принимает на вход предложение и возвращает леммы токенов предложения, фильтруя по стоп словам и удаляя знаки пунктуации\"\"\"\n",
        "    text = text.lower()\n",
        "    words = word_tokenize(text) # С помощью токенизации разбиваем текст на токены \n",
        "    words = [word for word in words if word not in stop_words] # Удаляем стопслова\n",
        "    words = [word for word in words if word not in punct] # Удаляем знаки пунктуации\n",
        "    \n",
        "    words = [stemmer.stem(word) for word in words] # стеммируем каждое слово\n",
        "    new_text = ' '.join(words)\n",
        "\n",
        "    return new_text"
      ],
      "execution_count": null,
      "outputs": []
    },
    {
      "cell_type": "code",
      "metadata": {
        "id": "s0D0OERJu6EZ"
      },
      "source": [
        "my_stopwords = stopwords.words(\"russian\")"
      ],
      "execution_count": null,
      "outputs": []
    },
    {
      "cell_type": "code",
      "metadata": {
        "id": "i73FVrHrk0Bk"
      },
      "source": [
        "ru_stop_words = set(stopwords.words('russian'))"
      ],
      "execution_count": null,
      "outputs": []
    },
    {
      "cell_type": "code",
      "metadata": {
        "colab": {
          "base_uri": "https://localhost:8080/",
          "height": 35
        },
        "id": "03QaJsw-sHkI",
        "outputId": "5433a42e-777f-414b-d896-5022741094e7"
      },
      "source": [
        "import string\n",
        "string.punctuation"
      ],
      "execution_count": null,
      "outputs": [
        {
          "output_type": "execute_result",
          "data": {
            "application/vnd.google.colaboratory.intrinsic+json": {
              "type": "string"
            },
            "text/plain": [
              "'!\"#$%&\\'()*+,-./:;<=>?@[\\\\]^_`{|}~'"
            ]
          },
          "metadata": {},
          "execution_count": 25
        }
      ]
    },
    {
      "cell_type": "code",
      "metadata": {
        "id": "sKa6NtwtvLVU"
      },
      "source": [
        "punctuations = list(string.punctuation)"
      ],
      "execution_count": null,
      "outputs": []
    },
    {
      "cell_type": "code",
      "metadata": {
        "id": "kzV8bn1NvLEQ",
        "colab": {
          "base_uri": "https://localhost:8080/",
          "height": 424
        },
        "outputId": "5b60faf9-88dc-4c9e-8c4a-8865d013e28c"
      },
      "source": [
        "df"
      ],
      "execution_count": null,
      "outputs": [
        {
          "output_type": "execute_result",
          "data": {
            "text/html": [
              "<div>\n",
              "<style scoped>\n",
              "    .dataframe tbody tr th:only-of-type {\n",
              "        vertical-align: middle;\n",
              "    }\n",
              "\n",
              "    .dataframe tbody tr th {\n",
              "        vertical-align: top;\n",
              "    }\n",
              "\n",
              "    .dataframe thead th {\n",
              "        text-align: right;\n",
              "    }\n",
              "</style>\n",
              "<table border=\"1\" class=\"dataframe\">\n",
              "  <thead>\n",
              "    <tr style=\"text-align: right;\">\n",
              "      <th></th>\n",
              "      <th>id</th>\n",
              "      <th>URL</th>\n",
              "      <th>Название</th>\n",
              "      <th>Предмет</th>\n",
              "      <th>label</th>\n",
              "      <th>count_words</th>\n",
              "    </tr>\n",
              "  </thead>\n",
              "  <tbody>\n",
              "    <tr>\n",
              "      <th>0</th>\n",
              "      <td>72894053</td>\n",
              "      <td>https://vk.com/club72894053</td>\n",
              "      <td>Биология: материалы к олимпиадам и экзаменам</td>\n",
              "      <td>биология</td>\n",
              "      <td>0</td>\n",
              "      <td>6</td>\n",
              "    </tr>\n",
              "    <tr>\n",
              "      <th>1</th>\n",
              "      <td>47693493</td>\n",
              "      <td>https://vk.com/club47693493</td>\n",
              "      <td>Биология+химия-easy;) c Aleksandra LearnBiolog...</td>\n",
              "      <td>биология</td>\n",
              "      <td>0</td>\n",
              "      <td>4</td>\n",
              "    </tr>\n",
              "    <tr>\n",
              "      <th>2</th>\n",
              "      <td>37948240</td>\n",
              "      <td>https://vk.com/club37948240</td>\n",
              "      <td>Биология</td>\n",
              "      <td>биология</td>\n",
              "      <td>0</td>\n",
              "      <td>1</td>\n",
              "    </tr>\n",
              "    <tr>\n",
              "      <th>3</th>\n",
              "      <td>109143834</td>\n",
              "      <td>https://vk.com/club109143834</td>\n",
              "      <td>B.o.S - Биология Спорта</td>\n",
              "      <td>биология</td>\n",
              "      <td>0</td>\n",
              "      <td>4</td>\n",
              "    </tr>\n",
              "    <tr>\n",
              "      <th>4</th>\n",
              "      <td>32140813</td>\n",
              "      <td>https://vk.com/club32140813</td>\n",
              "      <td>Углублённый Биолог</td>\n",
              "      <td>биология</td>\n",
              "      <td>0</td>\n",
              "      <td>2</td>\n",
              "    </tr>\n",
              "    <tr>\n",
              "      <th>...</th>\n",
              "      <td>...</td>\n",
              "      <td>...</td>\n",
              "      <td>...</td>\n",
              "      <td>...</td>\n",
              "      <td>...</td>\n",
              "      <td>...</td>\n",
              "    </tr>\n",
              "    <tr>\n",
              "      <th>1784</th>\n",
              "      <td>43732804</td>\n",
              "      <td>https://vk.com/club43732804</td>\n",
              "      <td>Кодексы и законы РФ</td>\n",
              "      <td>юриспруденция</td>\n",
              "      <td>18</td>\n",
              "      <td>4</td>\n",
              "    </tr>\n",
              "    <tr>\n",
              "      <th>1785</th>\n",
              "      <td>28799949</td>\n",
              "      <td>https://vk.com/club28799949</td>\n",
              "      <td>Закон.ру</td>\n",
              "      <td>юриспруденция</td>\n",
              "      <td>18</td>\n",
              "      <td>1</td>\n",
              "    </tr>\n",
              "    <tr>\n",
              "      <th>1786</th>\n",
              "      <td>42832964</td>\n",
              "      <td>https://vk.com/club42832964</td>\n",
              "      <td>Колледж АлтГУ</td>\n",
              "      <td>вуз</td>\n",
              "      <td>19</td>\n",
              "      <td>2</td>\n",
              "    </tr>\n",
              "    <tr>\n",
              "      <th>1787</th>\n",
              "      <td>40575907</td>\n",
              "      <td>https://vk.com/club40575907</td>\n",
              "      <td>КиберЛенинка</td>\n",
              "      <td>наука</td>\n",
              "      <td>20</td>\n",
              "      <td>1</td>\n",
              "    </tr>\n",
              "    <tr>\n",
              "      <th>1788</th>\n",
              "      <td>938295</td>\n",
              "      <td>https://vk.com/club938295</td>\n",
              "      <td>ИРНИТУ (ИрГТУ)</td>\n",
              "      <td>вуз</td>\n",
              "      <td>19</td>\n",
              "      <td>2</td>\n",
              "    </tr>\n",
              "  </tbody>\n",
              "</table>\n",
              "<p>1789 rows × 6 columns</p>\n",
              "</div>"
            ],
            "text/plain": [
              "             id                           URL  ... label count_words\n",
              "0      72894053   https://vk.com/club72894053  ...     0           6\n",
              "1      47693493   https://vk.com/club47693493  ...     0           4\n",
              "2      37948240   https://vk.com/club37948240  ...     0           1\n",
              "3     109143834  https://vk.com/club109143834  ...     0           4\n",
              "4      32140813   https://vk.com/club32140813  ...     0           2\n",
              "...         ...                           ...  ...   ...         ...\n",
              "1784   43732804   https://vk.com/club43732804  ...    18           4\n",
              "1785   28799949   https://vk.com/club28799949  ...    18           1\n",
              "1786   42832964   https://vk.com/club42832964  ...    19           2\n",
              "1787   40575907   https://vk.com/club40575907  ...    20           1\n",
              "1788     938295     https://vk.com/club938295  ...    19           2\n",
              "\n",
              "[1789 rows x 6 columns]"
            ]
          },
          "metadata": {},
          "execution_count": 27
        }
      ]
    },
    {
      "cell_type": "code",
      "metadata": {
        "id": "jRsxOwvKklHG"
      },
      "source": [
        "stemmer_ru = SnowballStemmer(\"russian\")"
      ],
      "execution_count": null,
      "outputs": []
    },
    {
      "cell_type": "code",
      "metadata": {
        "id": "WTUQxMMtkdzs"
      },
      "source": [
        "def func(x):\n",
        "  return text_processing(x, stemmer_ru, ru_stop_words, punctuations)\n",
        "\n",
        "\n",
        "df['stemmed_overview'] = df['Название'].apply(func)"
      ],
      "execution_count": null,
      "outputs": []
    },
    {
      "cell_type": "code",
      "metadata": {
        "colab": {
          "base_uri": "https://localhost:8080/",
          "height": 424
        },
        "id": "ntTa_5HZ485l",
        "outputId": "4b850607-0c18-44cb-f6c8-4e5978facff5"
      },
      "source": [
        "df"
      ],
      "execution_count": null,
      "outputs": [
        {
          "output_type": "execute_result",
          "data": {
            "text/html": [
              "<div>\n",
              "<style scoped>\n",
              "    .dataframe tbody tr th:only-of-type {\n",
              "        vertical-align: middle;\n",
              "    }\n",
              "\n",
              "    .dataframe tbody tr th {\n",
              "        vertical-align: top;\n",
              "    }\n",
              "\n",
              "    .dataframe thead th {\n",
              "        text-align: right;\n",
              "    }\n",
              "</style>\n",
              "<table border=\"1\" class=\"dataframe\">\n",
              "  <thead>\n",
              "    <tr style=\"text-align: right;\">\n",
              "      <th></th>\n",
              "      <th>id</th>\n",
              "      <th>URL</th>\n",
              "      <th>Название</th>\n",
              "      <th>Предмет</th>\n",
              "      <th>label</th>\n",
              "      <th>count_words</th>\n",
              "      <th>stemmed_overview</th>\n",
              "    </tr>\n",
              "  </thead>\n",
              "  <tbody>\n",
              "    <tr>\n",
              "      <th>0</th>\n",
              "      <td>72894053</td>\n",
              "      <td>https://vk.com/club72894053</td>\n",
              "      <td>Биология: материалы к олимпиадам и экзаменам</td>\n",
              "      <td>биология</td>\n",
              "      <td>0</td>\n",
              "      <td>6</td>\n",
              "      <td>биолог материал олимпиад экзамен</td>\n",
              "    </tr>\n",
              "    <tr>\n",
              "      <th>1</th>\n",
              "      <td>47693493</td>\n",
              "      <td>https://vk.com/club47693493</td>\n",
              "      <td>Биология+химия-easy;) c Aleksandra LearnBiolog...</td>\n",
              "      <td>биология</td>\n",
              "      <td>0</td>\n",
              "      <td>4</td>\n",
              "      <td>биология+химия-еас c aleksandr learnbiolog</td>\n",
              "    </tr>\n",
              "    <tr>\n",
              "      <th>2</th>\n",
              "      <td>37948240</td>\n",
              "      <td>https://vk.com/club37948240</td>\n",
              "      <td>Биология</td>\n",
              "      <td>биология</td>\n",
              "      <td>0</td>\n",
              "      <td>1</td>\n",
              "      <td>биолог</td>\n",
              "    </tr>\n",
              "    <tr>\n",
              "      <th>3</th>\n",
              "      <td>109143834</td>\n",
              "      <td>https://vk.com/club109143834</td>\n",
              "      <td>B.o.S - Биология Спорта</td>\n",
              "      <td>биология</td>\n",
              "      <td>0</td>\n",
              "      <td>4</td>\n",
              "      <td>b.o.s биолог спорт</td>\n",
              "    </tr>\n",
              "    <tr>\n",
              "      <th>4</th>\n",
              "      <td>32140813</td>\n",
              "      <td>https://vk.com/club32140813</td>\n",
              "      <td>Углублённый Биолог</td>\n",
              "      <td>биология</td>\n",
              "      <td>0</td>\n",
              "      <td>2</td>\n",
              "      <td>углублен биолог</td>\n",
              "    </tr>\n",
              "    <tr>\n",
              "      <th>...</th>\n",
              "      <td>...</td>\n",
              "      <td>...</td>\n",
              "      <td>...</td>\n",
              "      <td>...</td>\n",
              "      <td>...</td>\n",
              "      <td>...</td>\n",
              "      <td>...</td>\n",
              "    </tr>\n",
              "    <tr>\n",
              "      <th>1784</th>\n",
              "      <td>43732804</td>\n",
              "      <td>https://vk.com/club43732804</td>\n",
              "      <td>Кодексы и законы РФ</td>\n",
              "      <td>юриспруденция</td>\n",
              "      <td>18</td>\n",
              "      <td>4</td>\n",
              "      <td>кодекс закон рф</td>\n",
              "    </tr>\n",
              "    <tr>\n",
              "      <th>1785</th>\n",
              "      <td>28799949</td>\n",
              "      <td>https://vk.com/club28799949</td>\n",
              "      <td>Закон.ру</td>\n",
              "      <td>юриспруденция</td>\n",
              "      <td>18</td>\n",
              "      <td>1</td>\n",
              "      <td>закон.р</td>\n",
              "    </tr>\n",
              "    <tr>\n",
              "      <th>1786</th>\n",
              "      <td>42832964</td>\n",
              "      <td>https://vk.com/club42832964</td>\n",
              "      <td>Колледж АлтГУ</td>\n",
              "      <td>вуз</td>\n",
              "      <td>19</td>\n",
              "      <td>2</td>\n",
              "      <td>колледж алтг</td>\n",
              "    </tr>\n",
              "    <tr>\n",
              "      <th>1787</th>\n",
              "      <td>40575907</td>\n",
              "      <td>https://vk.com/club40575907</td>\n",
              "      <td>КиберЛенинка</td>\n",
              "      <td>наука</td>\n",
              "      <td>20</td>\n",
              "      <td>1</td>\n",
              "      <td>киберленинк</td>\n",
              "    </tr>\n",
              "    <tr>\n",
              "      <th>1788</th>\n",
              "      <td>938295</td>\n",
              "      <td>https://vk.com/club938295</td>\n",
              "      <td>ИРНИТУ (ИрГТУ)</td>\n",
              "      <td>вуз</td>\n",
              "      <td>19</td>\n",
              "      <td>2</td>\n",
              "      <td>ирнит иргт</td>\n",
              "    </tr>\n",
              "  </tbody>\n",
              "</table>\n",
              "<p>1789 rows × 7 columns</p>\n",
              "</div>"
            ],
            "text/plain": [
              "             id  ...                            stemmed_overview\n",
              "0      72894053  ...            биолог материал олимпиад экзамен\n",
              "1      47693493  ...  биология+химия-еас c aleksandr learnbiolog\n",
              "2      37948240  ...                                      биолог\n",
              "3     109143834  ...                          b.o.s биолог спорт\n",
              "4      32140813  ...                             углублен биолог\n",
              "...         ...  ...                                         ...\n",
              "1784   43732804  ...                             кодекс закон рф\n",
              "1785   28799949  ...                                     закон.р\n",
              "1786   42832964  ...                                колледж алтг\n",
              "1787   40575907  ...                                 киберленинк\n",
              "1788     938295  ...                                  ирнит иргт\n",
              "\n",
              "[1789 rows x 7 columns]"
            ]
          },
          "metadata": {},
          "execution_count": 30
        }
      ]
    },
    {
      "cell_type": "markdown",
      "metadata": {
        "id": "HgzDBVIVfILV"
      },
      "source": [
        "Обработка стоп слов\n"
      ]
    },
    {
      "cell_type": "code",
      "metadata": {
        "id": "ZxF-RWc4fLhg"
      },
      "source": [
        "def get_word_counts(texts):\n",
        "    wordfreq = {}\n",
        "\n",
        "    for sentence in texts:\n",
        "        \n",
        "        for word in word_tokenize(sentence):\n",
        "            \n",
        "            if word not in wordfreq:\n",
        "                wordfreq[word] = 0 \n",
        "            wordfreq[word] += 1\n",
        "        \n",
        "    return {k:v for k,v in sorted(wordfreq.items(), key=lambda kv: kv[1], reverse=True)}"
      ],
      "execution_count": null,
      "outputs": []
    },
    {
      "cell_type": "code",
      "metadata": {
        "id": "xbgG2rJhwccp"
      },
      "source": [
        "original_abstract_texts = df['stemmed_overview'].to_list()\n",
        "\n",
        "original_word_counts = get_word_counts(original_abstract_texts)"
      ],
      "execution_count": null,
      "outputs": []
    },
    {
      "cell_type": "code",
      "metadata": {
        "colab": {
          "base_uri": "https://localhost:8080/"
        },
        "id": "fO2RQemewiAF",
        "outputId": "3cc788ca-af87-4040-96ea-d69d0bd4e271"
      },
      "source": [
        "original_word_counts"
      ],
      "execution_count": null,
      "outputs": [
        {
          "output_type": "execute_result",
          "data": {
            "text/plain": [
              "{'егэ': 343,\n",
              " 'язык': 181,\n",
              " 'огэ': 138,\n",
              " '2017': 115,\n",
              " 'ответ': 109,\n",
              " 'английск': 109,\n",
              " 'психолог': 108,\n",
              " 'истор': 92,\n",
              " 'математик': 66,\n",
              " 'ги': 53,\n",
              " 'подготовк': 51,\n",
              " 'книг': 48,\n",
              " 'русск': 47,\n",
              " 'хим': 45,\n",
              " 'физик': 42,\n",
              " 'биолог': 36,\n",
              " 'english': 33,\n",
              " 'уч': 32,\n",
              " 'обществознан': 31,\n",
              " '2016': 30,\n",
              " 'росс': 29,\n",
              " 'литератур': 28,\n",
              " 'цитат': 28,\n",
              " 'онлайн': 23,\n",
              " 'философ': 22,\n",
              " '2015': 21,\n",
              " 'образован': 20,\n",
              " 'урок': 20,\n",
              " 'корейск': 20,\n",
              " 'помощ': 20,\n",
              " 'искусств': 20,\n",
              " 'центр': 19,\n",
              " 'факт': 19,\n",
              " 'японск': 19,\n",
              " '—': 18,\n",
              " 'мир': 17,\n",
              " 'япон': 17,\n",
              " 'курс': 17,\n",
              " 'решен': 17,\n",
              " 'стих': 17,\n",
              " 'stud': 17,\n",
              " 'подслуша': 17,\n",
              " 'репетитор': 16,\n",
              " 'наук': 16,\n",
              " 'абитуриент': 16,\n",
              " 'типичн': 15,\n",
              " 'немецк': 15,\n",
              " 'художник': 15,\n",
              " 'географ': 14,\n",
              " 'культур': 14,\n",
              " 'слов': 14,\n",
              " 'книжн': 14,\n",
              " 'саморазвит': 14,\n",
              " 'университет': 14,\n",
              " 'фильм': 13,\n",
              " 'жизн': 13,\n",
              " 'статград': 13,\n",
              " 'олимпиад': 12,\n",
              " 'путешеств': 12,\n",
              " 'опрос': 12,\n",
              " 'китайск': 12,\n",
              " 'сочинен': 12,\n",
              " 'рисован': 12,\n",
              " 'l': 12,\n",
              " 'велик': 12,\n",
              " 'ден': 11,\n",
              " 'in': 11,\n",
              " 'информатик': 11,\n",
              " 'советск': 11,\n",
              " 'государствен': 11,\n",
              " 'эзотерик': 11,\n",
              " 'технолог': 10,\n",
              " 'новост': 10,\n",
              " 'современ': 10,\n",
              " 'омар': 10,\n",
              " 'высш': 10,\n",
              " 'задач': 10,\n",
              " 'нгу': 10,\n",
              " 'of': 9,\n",
              " 'литературн': 9,\n",
              " 'студент': 9,\n",
              " 'космос': 9,\n",
              " 'учител': 8,\n",
              " '«': 8,\n",
              " '»': 8,\n",
              " 'нов': 8,\n",
              " 'хоч': 8,\n",
              " 'иностра': 8,\n",
              " 'лентя': 8,\n",
              " 'school': 8,\n",
              " 'бесплатн': 8,\n",
              " 'школ': 8,\n",
              " 'the': 8,\n",
              " 'программирован': 8,\n",
              " 'art': 8,\n",
              " 'поэт': 8,\n",
              " 'поэз': 8,\n",
              " 'групп': 8,\n",
              " 'политик': 8,\n",
              " 'есенин': 8,\n",
              " 'хай': 8,\n",
              " 'рф': 8,\n",
              " 'сообществ': 7,\n",
              " 'знат': 7,\n",
              " 'испанск': 7,\n",
              " 'французск': 7,\n",
              " 'перевод': 7,\n",
              " 'журна': 7,\n",
              " 'рисова': 7,\n",
              " 'официальн': 7,\n",
              " 'историческ': 7,\n",
              " 'оруж': 7,\n",
              " 'серг': 7,\n",
              " 'балл': 7,\n",
              " '2014': 7,\n",
              " 'шаг': 6,\n",
              " 'задан': 6,\n",
              " 'карате-егэ': 6,\n",
              " '©': 6,\n",
              " 'человек': 6,\n",
              " 'интересн': 6,\n",
              " 'новосибирск': 6,\n",
              " 'начина': 6,\n",
              " 'нул': 6,\n",
              " 'ленив': 6,\n",
              " 'кажд': 6,\n",
              " 'books': 6,\n",
              " 'языков': 6,\n",
              " '100': 6,\n",
              " 'иркутск': 6,\n",
              " 'tim': 6,\n",
              " 'живоп': 6,\n",
              " 'творчеств': 6,\n",
              " 'рисунк': 6,\n",
              " 'молодежн': 6,\n",
              " 'пут': 6,\n",
              " 'институт': 6,\n",
              " 'лавк': 6,\n",
              " 'прав': 6,\n",
              " 'друг': 6,\n",
              " 'психологическ': 6,\n",
              " 'отношен': 6,\n",
              " 'словарн': 6,\n",
              " 'умн': 6,\n",
              " 'астроном': 6,\n",
              " 'люд': 6,\n",
              " 'юрист': 6,\n",
              " 'бгу': 6,\n",
              " 'улан-удэ': 6,\n",
              " 'scienc': 6,\n",
              " 'кдр': 6,\n",
              " 'ким': 6,\n",
              " 'motivation': 6,\n",
              " '150': 5,\n",
              " 'гдз': 5,\n",
              " 'онлайн-курс': 5,\n",
              " 'медицин': 5,\n",
              " 'планет': 5,\n",
              " 'туризм': 5,\n",
              " 'стран': 5,\n",
              " 'обществ': 5,\n",
              " 'onlin': 5,\n",
              " 'переводчик': 5,\n",
              " 'вмест': 5,\n",
              " 'программ': 5,\n",
              " 'обучен': 5,\n",
              " 'прост': 5,\n",
              " 'deutsch': 5,\n",
              " 'видеоурок': 5,\n",
              " 'век': 5,\n",
              " 'архитектур': 5,\n",
              " 'академическ': 5,\n",
              " 'histor': 5,\n",
              " 'e': 5,\n",
              " 'итогов': 5,\n",
              " 'успех': 5,\n",
              " \"'\": 5,\n",
              " 'открыт': 5,\n",
              " 'практическ': 5,\n",
              " 'психиатр': 5,\n",
              " 'psycholog': 5,\n",
              " 'запас': 5,\n",
              " 'техник': 5,\n",
              " 'мотоцикл': 5,\n",
              " 'закон': 5,\n",
              " 'иг': 5,\n",
              " 'пробн': 5,\n",
              " 'экзам': 5,\n",
              " 'материал': 4,\n",
              " 'скайп': 4,\n",
              " 'вебинар': 4,\n",
              " 'медицинск': 4,\n",
              " 'кор': 4,\n",
              " 'кита': 4,\n",
              " 'фраз': 4,\n",
              " 'club': 4,\n",
              " 'барнаул': 4,\n",
              " 'эт': 4,\n",
              " 'movies': 4,\n",
              " 'полезн': 4,\n",
              " 'korea': 4,\n",
              " 'студ': 4,\n",
              " 'лагер': 4,\n",
              " 'словар': 4,\n",
              " 'миров': 4,\n",
              " 'дизайн': 4,\n",
              " 'арт': 4,\n",
              " 'муз': 4,\n",
              " 'шедевр': 4,\n",
              " 'картин': 4,\n",
              " 'портрет': 4,\n",
              " 'страниц': 4,\n",
              " 'невероятн': 4,\n",
              " 'мбу': 4,\n",
              " 'inspiration': 4,\n",
              " 'мифолог': 4,\n",
              " '2.0': 4,\n",
              " 'социальн': 4,\n",
              " '–': 4,\n",
              " 'театр': 4,\n",
              " 'кин': 4,\n",
              " 's': 4,\n",
              " '...': 4,\n",
              " 'аудиокниг': 4,\n",
              " 'марин': 4,\n",
              " 'рэ': 4,\n",
              " 'полк': 4,\n",
              " 'геометр': 4,\n",
              " 'мысл': 4,\n",
              " 'тест': 4,\n",
              " 'совет': 4,\n",
              " 'tech': 4,\n",
              " 'гаджет': 4,\n",
              " 'иж': 4,\n",
              " 'мвд': 4,\n",
              " 'преподавател': 4,\n",
              " 'мцко': 4,\n",
              " 'егэ/огэ': 4,\n",
              " 'псычологы|психолог': 4,\n",
              " 'экзамен': 3,\n",
              " 'рабоч': 3,\n",
              " 'тетрад': 3,\n",
              " 'класс': 3,\n",
              " 'популярн': 3,\n",
              " 'теор': 3,\n",
              " 'te': 3,\n",
              " 'перв': 3,\n",
              " 'kore': 3,\n",
              " 'travel': 3,\n",
              " 'решебник': 3,\n",
              " 'languag': 3,\n",
              " 'играюч': 3,\n",
              " 'сам': 3,\n",
              " 'статус': 3,\n",
              " 'сериал': 3,\n",
              " 'легк': 3,\n",
              " 'дом': 3,\n",
              " 'академ': 3,\n",
              " 'лиг': 3,\n",
              " 'lov': 3,\n",
              " '•': 3,\n",
              " 'байкал': 3,\n",
              " 'дет': 3,\n",
              " '1000': 3,\n",
              " 'сша': 3,\n",
              " '5': 3,\n",
              " 'коре': 3,\n",
              " 'lif': 3,\n",
              " 'итальянск': 3,\n",
              " 'любл': 3,\n",
              " 'любител': 3,\n",
              " 'eas': 3,\n",
              " 't': 3,\n",
              " 'серге': 3,\n",
              " 'it': 3,\n",
              " 'android': 3,\n",
              " 'дизайнер': 3,\n",
              " 'мастерск': 3,\n",
              " 'все': 3,\n",
              " 'n': 3,\n",
              " 'ид': 3,\n",
              " 'гитар': 3,\n",
              " 'смотр': 3,\n",
              " 'сво': 3,\n",
              " 'аг': 3,\n",
              " 'рисунок': 3,\n",
              " 'd': 3,\n",
              " 'by': 3,\n",
              " 'реша': 3,\n",
              " 'кот': 3,\n",
              " 'лучш': 3,\n",
              " 'фотограф': 3,\n",
              " 'российск': 3,\n",
              " 'секрет': 3,\n",
              " 'ру': 3,\n",
              " 'иосиф': 3,\n",
              " 'врем': 3,\n",
              " 'детск': 3,\n",
              " 'u': 3,\n",
              " 'забыт': 3,\n",
              " 'привет': 3,\n",
              " 'отрывк': 3,\n",
              " 'цветаев': 3,\n",
              " 'уголок': 3,\n",
              " 'душ': 3,\n",
              " 'библиотек': 3,\n",
              " 'развит': 3,\n",
              " 'книгоман': 3,\n",
              " 'book': 3,\n",
              " 'подростк': 3,\n",
              " '||': 3,\n",
              " 'lancma': 3,\n",
              " 'банк': 3,\n",
              " '``': 3,\n",
              " '2017.': 3,\n",
              " '5+': 3,\n",
              " 'бизнес': 3,\n",
              " 'психиатрическ': 3,\n",
              " 'больниц': 3,\n",
              " 'счаст': 3,\n",
              " 'разн': 3,\n",
              " 'компьютер': 3,\n",
              " 'энциклопед': 3,\n",
              " 'робот': 3,\n",
              " 'windows': 3,\n",
              " 'увлекательн': 3,\n",
              " 'сибирск': 3,\n",
              " 'химик': 3,\n",
              " 'факультет': 3,\n",
              " 'смешн': 3,\n",
              " 'сфу': 3,\n",
              " 'плеханов': 3,\n",
              " 'тпу': 3,\n",
              " 'тгу': 3,\n",
              " 'кемеровск': 3,\n",
              " 'мгу': 3,\n",
              " 'студенческ': 3,\n",
              " 'гиа/егэ': 3,\n",
              " 'гвэ': 3,\n",
              " 'to': 3,\n",
              " 'spac': 3,\n",
              " 'technolog': 3,\n",
              " 'бродск': 3,\n",
              " 'спорт': 2,\n",
              " 'учебн': 2,\n",
              " 'б': 2,\n",
              " 'егэ-2017': 2,\n",
              " 'лукомор': 2,\n",
              " 'студент-медик': 2,\n",
              " 'спортивн': 2,\n",
              " 'паблик': 2,\n",
              " 'наш': 2,\n",
              " 'тел': 2,\n",
              " 'анатом': 2,\n",
              " 'удивительн': 2,\n",
              " 'национальн': 2,\n",
              " 'аз': 2,\n",
              " 'сибир': 2,\n",
              " 'russ': 2,\n",
              " 'свет': 2,\n",
              " 'кадр': 2,\n",
              " 'wik': 2,\n",
              " 'world': 2,\n",
              " 'полиглот': 2,\n",
              " 'испан': 2,\n",
              " 'аргумент': 2,\n",
              " 'красив': 2,\n",
              " 'london': 2,\n",
              " 'i': 2,\n",
              " 'кемеров': 2,\n",
              " 'турецк': 2,\n",
              " 'юмор': 2,\n",
              " 'инглиш': 2,\n",
              " 'самостоятельн': 2,\n",
              " 'нот': 2,\n",
              " 'нескучн': 2,\n",
              " 'business': 2,\n",
              " 'for': 2,\n",
              " 'skyp': 2,\n",
              " 'and': 2,\n",
              " 'месяц': 2,\n",
              " 'учеб': 2,\n",
              " 'be': 2,\n",
              " 'japa': 2,\n",
              " 'abc': 2,\n",
              " 'любв': 2,\n",
              " 'украинск': 2,\n",
              " 'арабск': 2,\n",
              " 'hous': 2,\n",
              " 'татарск': 2,\n",
              " 'бурятск': 2,\n",
              " 'карточк': 2,\n",
              " 'тыв': 2,\n",
              " 'герман': 2,\n",
              " 'изуча': 2,\n",
              " 'изнутр': 2,\n",
              " 'блог': 2,\n",
              " 'образовательн': 2,\n",
              " 'правильн': 2,\n",
              " 'репетиторск': 2,\n",
              " 'jav': 2,\n",
              " 'компьютерн': 2,\n",
              " 'liv': 2,\n",
              " 'pro': 2,\n",
              " 'thequestion': 2,\n",
              " 'нарис': 2,\n",
              " 'рукодел': 2,\n",
              " 'xxi': 2,\n",
              " 'возрожден': 2,\n",
              " 'печа': 2,\n",
              " 'холст': 2,\n",
              " 'художествен': 2,\n",
              " 'рису': 2,\n",
              " 'хваста': 2,\n",
              " 'танц': 2,\n",
              " 'ф': 2,\n",
              " 'г': 2,\n",
              " 'ух': 2,\n",
              " '№1': 2,\n",
              " 'созда': 2,\n",
              " 'сов': 2,\n",
              " 'рук': 2,\n",
              " 'скетчбук': 2,\n",
              " 'звезд': 2,\n",
              " 'науч': 2,\n",
              " 'дне': 2,\n",
              " 'город': 2,\n",
              " 'картинк': 2,\n",
              " 'карандаш': 2,\n",
              " 'galler': 2,\n",
              " '3d': 2,\n",
              " 'step': 2,\n",
              " 'нарисова': 2,\n",
              " 'эзотерическ': 2,\n",
              " 'вебинариум': 2,\n",
              " 'степа': 2,\n",
              " 'диалоги|егэ': 2,\n",
              " 'hi100r': 2,\n",
              " 'человечеств': 2,\n",
              " 'тайн': 2,\n",
              " 'момент': 2,\n",
              " 'кратк': 2,\n",
              " 'цивилизац': 2,\n",
              " 'юн': 2,\n",
              " 'историк': 2,\n",
              " 'импер': 2,\n",
              " 'славянск': 2,\n",
              " 'событ': 2,\n",
              " 'фот': 2,\n",
              " 'арм': 2,\n",
              " 'воен': 2,\n",
              " 'ссср': 2,\n",
              " 'войн': 2,\n",
              " 'мгновен': 2,\n",
              " 'союз': 2,\n",
              " 'народ': 2,\n",
              " '2000-х': 2,\n",
              " 'христ': 2,\n",
              " 'храм': 2,\n",
              " 'говор': 2,\n",
              " 'скандинавск': 2,\n",
              " 'посольств': 2,\n",
              " 'социум': 2,\n",
              " 'актерск': 2,\n",
              " 'мастерств': 2,\n",
              " 'r': 2,\n",
              " 'чтен': 2,\n",
              " 'александрович': 2,\n",
              " 'уил': 2,\n",
              " 'шекспир': 2,\n",
              " 'давн': 2,\n",
              " 'ауд': 2,\n",
              " 'пушкин': 2,\n",
              " 'жив': 2,\n",
              " 'дмитр': 2,\n",
              " 'серебрян': 2,\n",
              " 'писател': 2,\n",
              " 'порта': 2,\n",
              " 'александр': 2,\n",
              " 'ха': 2,\n",
              " 'мертв': 2,\n",
              " 'мастер': 2,\n",
              " 'лед': 2,\n",
              " 'баг': 2,\n",
              " 'фанфик': 2,\n",
              " 'лев': 2,\n",
              " 'толст': 2,\n",
              " 'роберт': 2,\n",
              " 'рождественск': 2,\n",
              " 'чтот': 2,\n",
              " 'сегодн': 2,\n",
              " 'сергеевич': 2,\n",
              " 'дня': 2,\n",
              " 'гарр': 2,\n",
              " 'поттер': 2,\n",
              " 'росмэн': 2,\n",
              " 'учебник': 2,\n",
              " 'эксм': 2,\n",
              " 'аст': 2,\n",
              " 'young': 2,\n",
              " 'adult': 2,\n",
              " 'электрон': 2,\n",
              " 'lomonos': 2,\n",
              " 'инженерн': 2,\n",
              " 'мил': 2,\n",
              " 'курсов': 2,\n",
              " 'реферат': 2,\n",
              " 'огэ-2017': 2,\n",
              " 'результат': 2,\n",
              " 'домашн': 2,\n",
              " 'метод': 2,\n",
              " 'экономическ': 2,\n",
              " 'статистик': 2,\n",
              " '-2017': 2,\n",
              " 'сто': 2,\n",
              " 'виктор': 2,\n",
              " 'интенс': 2,\n",
              " 'extraschool': 2,\n",
              " 'мозг': 2,\n",
              " 'правительств': 2,\n",
              " 'полиц': 2,\n",
              " 'политическ': 2,\n",
              " 'парт': 2,\n",
              " 'платформ': 2,\n",
              " '.': 2,\n",
              " 'мобильн': 2,\n",
              " 'команд': 2,\n",
              " 'навальн': 2,\n",
              " 'фрейд': 2,\n",
              " 'самопознан': 2,\n",
              " 'психотерап': 2,\n",
              " 'личност': 2,\n",
              " 'путеводител': 2,\n",
              " 'когнитивистик': 2,\n",
              " 'личностн': 2,\n",
              " 'рост': 2,\n",
              " 'мотивац': 2,\n",
              " 'профессиональн': 2,\n",
              " 'психик': 2,\n",
              " 'успешн': 2,\n",
              " 'пробужден': 2,\n",
              " 'психоанализ': 2,\n",
              " 'огэ/егэ': 2,\n",
              " 'мата': 2,\n",
              " 'термех': 2,\n",
              " 'тмм': 2,\n",
              " 'инновац': 2,\n",
              " 'уникальн': 2,\n",
              " 'инженер': 2,\n",
              " 'ура': 2,\n",
              " 'яв': 2,\n",
              " 'приложен': 2,\n",
              " 'будущ': 2,\n",
              " 'киберленинк': 2,\n",
              " 'чуд': 2,\n",
              " 'чудес': 2,\n",
              " 'тесл': 2,\n",
              " 'егэ/г': 2,\n",
              " 'турнир': 2,\n",
              " 'занимательн': 2,\n",
              " 'химическ': 2,\n",
              " 'биохим': 2,\n",
              " 'чгма': 2,\n",
              " 'мам': 2,\n",
              " 'юридическ': 2,\n",
              " 'алтг': 2,\n",
              " 'кодекс': 2,\n",
              " 'вопрос': 2,\n",
              " 'г.в': 2,\n",
              " 'нви': 2,\n",
              " 'алтайск': 2,\n",
              " 'томск': 2,\n",
              " 'кемг': 2,\n",
              " 'универсальн': 2,\n",
              " 'сунц': 2,\n",
              " 'фмш': 2,\n",
              " 'признавашк': 2,\n",
              " 'ранхигс': 2,\n",
              " 'имен': 2,\n",
              " 'профк': 2,\n",
              " 'mad': 2,\n",
              " 'познавательн': 2,\n",
              " 'фоксфорд': 2,\n",
              " 'школьник': 2,\n",
              " '1': 2,\n",
              " 'рубеж': 2,\n",
              " 'самоподготовк': 2,\n",
              " 'егэ|огэ': 2,\n",
              " 'реш': 2,\n",
              " 'огэ|егэ': 2,\n",
              " 'егэ/гиа/огэ': 2,\n",
              " '2015/2016': 2,\n",
              " 'пробник': 2,\n",
              " 'декабрьск': 2,\n",
              " 'оц': 2,\n",
              " 'students': 2,\n",
              " 'smart': 2,\n",
              " 'techn': 2,\n",
              " 'technica': 2,\n",
              " 'tears': 2,\n",
              " 'space360': 2,\n",
              " 'заядл': 2,\n",
              " 'театра': 2,\n",
              " 'издательств': 2,\n",
              " 'ива': 2,\n",
              " 'биология+химия-еас': 1,\n",
              " 'c': 1,\n",
              " 'aleksandr': 1,\n",
              " 'learnbiolog': 1,\n",
              " 'b.o.s': 1,\n",
              " 'углублен': 1,\n",
              " 'генетик': 1,\n",
              " 'молекулярн': 1,\n",
              " 'биотехнолог': 1,\n",
              " 'океанограф': 1,\n",
              " 'морск': 1,\n",
              " 'дельфин': 1,\n",
              " '8': 1,\n",
              " 'естествен': 1,\n",
              " 'natura': 1,\n",
              " 'sciences': 1,\n",
              " 'neuroscienc': 1,\n",
              " 'дарвин': 1,\n",
              " 'bioex': 1,\n",
              " 'nosc': 1,\n",
              " 'ipsum': 1,\n",
              " 'нмт': 1,\n",
              " 'нпц': 1,\n",
              " 'хорош': 1,\n",
              " 'малоизвестн': 1,\n",
              " 'зверят': 1,\n",
              " 'ортопед': 1,\n",
              " 'реабилитац': 1,\n",
              " 'собак': 1,\n",
              " 'павлов': 1,\n",
              " 'маленьк': 1,\n",
              " 'любов': 1,\n",
              " 'фармацевт': 1,\n",
              " 'врач': 1,\n",
              " 'topanatom': 1,\n",
              " 'пчеловодств': 1,\n",
              " 'туд': 1,\n",
              " 'поч': 1,\n",
              " 'поход': 1,\n",
              " 'выживан': 1,\n",
              " 'потенциальн': 1,\n",
              " 'эмигрант': 1,\n",
              " 'польш': 1,\n",
              " 'ко': 1,\n",
              " 'поеха': 1,\n",
              " 'seoul': 1,\n",
              " 'yons': 1,\n",
              " 'организац': 1,\n",
              " 'нотк': 1,\n",
              " 'легендарн': 1,\n",
              " 'инд': 1,\n",
              " 'тайланд': 1,\n",
              " 'смел': 1,\n",
              " 'геолог': 1,\n",
              " 'siber': 1,\n",
              " 'красот': 1,\n",
              " 'touristoz': 1,\n",
              " 'мест': 1,\n",
              " 'вокруг': 1,\n",
              " 'природ': 1,\n",
              " 'редк': 1,\n",
              " 'geograph': 1,\n",
              " 'географическ': 1,\n",
              " 'невменя': 1,\n",
              " 'геограпhы/мир': 1,\n",
              " 'heroes': 1,\n",
              " '18+': 1,\n",
              " 'выуч': 1,\n",
              " '16': 1,\n",
              " 'ч.': 1,\n",
              " 'тв': 1,\n",
              " 'субъективн': 1,\n",
              " 'верс': 1,\n",
              " 'глух': 1,\n",
              " 'жестов': 1,\n",
              " 'begin': 1,\n",
              " 'fast': 1,\n",
              " 'learner': 1,\n",
              " 'би-би-с': 1,\n",
              " 'friendl': 1,\n",
              " 'лангуагес|английск': 1,\n",
              " 'только|енглиш': 1,\n",
              " 'лондонск': 1,\n",
              " 'friends': 1,\n",
              " 'tota': 1,\n",
              " '/курсы/': 1,\n",
              " 'everyda': 1,\n",
              " 'bigappleschool': 1,\n",
              " 'выход': 1,\n",
              " 'летн': 1,\n",
              " 'интенсивн': 1,\n",
              " '10': 1,\n",
              " 'endail': 1,\n",
              " 'визуальн': 1,\n",
              " 'премьер': 1,\n",
              " 'бот': 1,\n",
              " 'dail': 1,\n",
              " 'шо': 1,\n",
              " 'englishshow.r': 1,\n",
              " 'papamang': 1,\n",
              " 'боокс/книг': 1,\n",
              " 'lingualeo.c': 1,\n",
              " 'words': 1,\n",
              " 'tochk': 1,\n",
              " 'марус': 1,\n",
              " 'путешественник': 1,\n",
              " 'по': 1,\n",
              " 'песн': 1,\n",
              " '.movies': 1,\n",
              " 'insights': 1,\n",
              " 'quotes': 1,\n",
              " 'енглиш|цитат': 1,\n",
              " 'заряжа': 1,\n",
              " 'харьков': 1,\n",
              " 'субтитр': 1,\n",
              " 'трамва': 1,\n",
              " 'everyon': 1,\n",
              " 'skype-study.c': 1,\n",
              " 'istud': 1,\n",
              " 'okiedok': 1,\n",
              " 'окидок': 1,\n",
              " 'elementar': 1,\n",
              " 'шпионск': 1,\n",
              " 'онлине|английск': 1,\n",
              " 'носител': 1,\n",
              " 'work': 1,\n",
              " 'америк': 1,\n",
              " 'воистин': 1,\n",
              " '24': 1,\n",
              " 'час': 1,\n",
              " 'реалити-шо': 1,\n",
              " 'лондон': 1,\n",
              " 'movieenglish': 1,\n",
              " 'tv': 1,\n",
              " 'shows': 1,\n",
              " 'енглиш\\\\фильм': 1,\n",
              " 'латинск': 1,\n",
              " 'латын': 1,\n",
              " 'сеул': 1,\n",
              " 'бенедикт|': 1,\n",
              " 'языков|': 1,\n",
              " 'новокузнецк': 1,\n",
              " 'aappl': 1,\n",
              " 'gaku.r': 1,\n",
              " 'клуб': 1,\n",
              " 'норвежск': 1,\n",
              " 'norsk': 1,\n",
              " 'начальн': 1,\n",
              " 'уровен': 1,\n",
              " 'українськ': 1,\n",
              " 'мов': 1,\n",
              " 'чешск': 1,\n",
              " 'армянск': 1,\n",
              " 'nihong': 1,\n",
              " 'япония|тенсаигаккоу.р': 1,\n",
              " 'курск': 1,\n",
              " 'цикл': 1,\n",
              " 'мини-заметок': 1,\n",
              " 'фурат': 1,\n",
              " 'приветкоре': 1,\n",
              " 'manab': 1,\n",
              " 'кирпичн': 1,\n",
              " 'koreanspac': 1,\n",
              " 'нам': 1,\n",
              " 'linguistic': 1,\n",
              " 'cloud': 1,\n",
              " 'языки+когнитивистик': 1,\n",
              " 'англиск': 1,\n",
              " 'польск': 1,\n",
              " 'авс': 1,\n",
              " 'г.заринск': 1,\n",
              " 'финск': 1,\n",
              " '|братск|энергетик|': 1,\n",
              " 'speakasap': 1,\n",
              " 'busu': 1,\n",
              " '12': 1,\n",
              " 'одновремен': 1,\n",
              " '^^': 1,\n",
              " 'буряад': 1,\n",
              " 'хэлэнэ': 1,\n",
              " 'тол': 1,\n",
              " 'baker-street': 1,\n",
              " 'азербайджанск': 1,\n",
              " 'baika': 1,\n",
              " 'junior': 1,\n",
              " '°изуча': 1,\n",
              " 'корею°': 1,\n",
              " 'ih': 1,\n",
              " 'continenta': 1,\n",
              " 'новокузнетск|иностра': 1,\n",
              " 'казахск': 1,\n",
              " 'лингуст': 1,\n",
              " 'изучен': 1,\n",
              " 'lingu': 1,\n",
              " 'koreles': 1,\n",
              " 'ваш': 1,\n",
              " 'грамматик': 1,\n",
              " 'интерлэнг': 1,\n",
              " 'тувинск': 1,\n",
              " 'дыл': 1,\n",
              " 'лингва-терр': 1,\n",
              " 'start': 1,\n",
              " 'rainbow': 1,\n",
              " 'lo': 1,\n",
              " 'bands': 1,\n",
              " 'film': 1,\n",
              " 'auf': 1,\n",
              " 'glich': 1,\n",
              " 'знаток': 1,\n",
              " 'интернет-магазин': 1,\n",
              " 'тао.р': 1,\n",
              " 'таоба': 1,\n",
              " 'панд': 1,\n",
              " 'mit': 1,\n",
              " 'humor': 1,\n",
              " '42782': 1,\n",
              " 'антикаф': 1,\n",
              " 'атмасфер': 1,\n",
              " 'pauk': 1,\n",
              " 'magazines': 1,\n",
              " 'newspapers': 1,\n",
              " 'япония|jапа': 1,\n",
              " 'взгляд': 1,\n",
              " 'куваев': 1,\n",
              " 'как': 1,\n",
              " 'хрен': 1,\n",
              " ':3': 1,\n",
              " 'гифк': 1,\n",
              " 'hd': 1,\n",
              " 'хирага': 1,\n",
              " 'экспресс': 1,\n",
              " 'убойн': 1,\n",
              " 'продвинут': 1,\n",
              " 'kids': 1,\n",
              " 'хип-хоп': 1,\n",
              " 'sha': 1,\n",
              " 'tast': 1,\n",
              " 'languages': 1,\n",
              " 'translat': 1,\n",
              " 'up': 1,\n",
              " 'class': 1,\n",
              " 'scandinav': 1,\n",
              " 'onl': 1,\n",
              " 'myefe.r': 1,\n",
              " 'techrocks': 1,\n",
              " 'itmozg': 1,\n",
              " 'с++': 1,\n",
              " 'python': 1,\n",
              " 'skillbox': 1,\n",
              " 'ит-программирован': 1,\n",
              " 'разработк': 1,\n",
              " 'сайтов/скрипт': 1,\n",
              " 'cppstudio.c': 1,\n",
              " 'c\\\\с++': 1,\n",
              " 'паwно-инфо.ру-программирован': 1,\n",
              " 'pawn': 1,\n",
              " 'информатика|статистика|логика|теорвер': 1,\n",
              " 'бу': 1,\n",
              " 'босов': 1,\n",
              " 'matlab/simulink/maple/python/java/php/c': 1,\n",
              " 'професс': 1,\n",
              " 'ональн': 1,\n",
              " 'хакер': 1,\n",
              " 'молдов': 1,\n",
              " 'pocket': 1,\n",
              " 'mk2show': 1,\n",
              " 'officia': 1,\n",
              " 'microsoft': 1,\n",
              " 'developer': 1,\n",
              " 'traffic': 1,\n",
              " 'contemporar': 1,\n",
              " 'душевн': 1,\n",
              " 'иллюстрац': 1,\n",
              " 'эрарт': 1,\n",
              " 'ардезарт™': 1,\n",
              " 'as': 1,\n",
              " 'живопись|искусство|вдохновен': 1,\n",
              " '|мир': 1,\n",
              " 'искусства=|=художник': 1,\n",
              " 'абстрактн': 1,\n",
              " 'концепт': 1,\n",
              " 'concept': 1,\n",
              " 'designer': 1,\n",
              " 'веб-дизайн': 1,\n",
              " 'мог': 1,\n",
              " 'мастер-класс': 1,\n",
              " 'эр': 1,\n",
              " 'мар': 1,\n",
              " 'ремарк': 1,\n",
              " 'эпох': 1,\n",
              " 'renaissanc': 1,\n",
              " 'человек.в.картинк': 1,\n",
              " 'чайн': 1,\n",
              " 'ложк': 1,\n",
              " 'живопис': 1,\n",
              " 'цифров': 1,\n",
              " 'drawatar.c': 1,\n",
              " 'хурм': 1,\n",
              " 'творческ': 1,\n",
              " 'хул': 1,\n",
              " 'сложн': 1,\n",
              " 'бля': 1,\n",
              " 'вконтакт': 1,\n",
              " 'вк': 1,\n",
              " 'кулаковск': 1,\n",
              " 'а.в': 1,\n",
              " 'drakonoart': 1,\n",
              " 'арт-скетч': 1,\n",
              " 'игор': 1,\n",
              " 'сахар': 1,\n",
              " 'зентангл': 1,\n",
              " 'формул': 1,\n",
              " 'спб': 1,\n",
              " 'флористик': 1,\n",
              " 'т': 1,\n",
              " 'р': 1,\n",
              " 'пошагов': 1,\n",
              " 'улитк': 1,\n",
              " 'ван': 1,\n",
              " 'гог': 1,\n",
              " 'тру': 1,\n",
              " 'художник|урок': 1,\n",
              " 'рисования|арт': 1,\n",
              " 'ступ': 1,\n",
              " 'ghibl': 1,\n",
              " 'хая': 1,\n",
              " 'миядзак': 1,\n",
              " 'иса': 1,\n",
              " 'такахат': 1,\n",
              " 'дерев': 1,\n",
              " 'средневеков': 1,\n",
              " 'сохраникартинк': 1,\n",
              " 'созерца': 1,\n",
              " 'уют|': 1,\n",
              " 'интерьера|': 1,\n",
              " 'мебель|': 1,\n",
              " 'оренбург': 1,\n",
              " 'арт-студент': 1,\n",
              " '*o': 1,\n",
              " 'v': 1,\n",
              " 'o*': 1,\n",
              " 'student': 1,\n",
              " 'owl': 1,\n",
              " 'сдела': 1,\n",
              " 'рис': 1,\n",
              " 'смена8': 1,\n",
              " 'скрапбукинг': 1,\n",
              " 'мк': 1,\n",
              " 'прогулк': 1,\n",
              " 'сквоз': 1,\n",
              " 'похваста': 1,\n",
              " 'потрясн': 1,\n",
              " 'пор': 1,\n",
              " 'полиморфус': 1,\n",
              " 'пластик': 1,\n",
              " 'тех': 1,\n",
              " 'поделк': 1,\n",
              " 'телестуд': 1,\n",
              " 'тижт-тв': 1,\n",
              " 'откр': 1,\n",
              " 'бес': 1,\n",
              " 'ремесл': 1,\n",
              " 'фортепиа': 1,\n",
              " 'пианин': 1,\n",
              " 'pianotes.r': 1,\n",
              " 'нетипичн': 1,\n",
              " 'танцева': 1,\n",
              " 'вперед': 1,\n",
              " '30': 1,\n",
              " 'web-paint.r': 1,\n",
              " 'народн': 1,\n",
              " 'ансамбл': 1,\n",
              " 'jаш': 1,\n",
              " 'канат|официальн': 1,\n",
              " 'московск': 1,\n",
              " 'кремл': 1,\n",
              " 'мбук': 1,\n",
              " 'гцд': 1,\n",
              " 'горняк': 1,\n",
              " 'искитим': 1,\n",
              " 'молодеж': 1,\n",
              " 'куйбышевск': 1,\n",
              " 'район': 1,\n",
              " 'леди-фе': 1,\n",
              " 'уютн': 1,\n",
              " 'сад': 1,\n",
              " 'вязан': 1,\n",
              " 'ларец': 1,\n",
              " 'вдохновен': 1,\n",
              " 'лайфхак': 1,\n",
              " 'drawfox': 1,\n",
              " 'галере': 1,\n",
              " 'калейдоскоп': 1,\n",
              " 'фантастик': 1,\n",
              " 'вероник': 1,\n",
              " ...}"
            ]
          },
          "metadata": {},
          "execution_count": 33
        }
      ]
    },
    {
      "cell_type": "code",
      "metadata": {
        "id": "8Vu5ySgMwlpc"
      },
      "source": [
        ""
      ],
      "execution_count": null,
      "outputs": []
    },
    {
      "cell_type": "markdown",
      "metadata": {
        "id": "gBWg6lso0XeC"
      },
      "source": [
        "# Обработка данных (занятие 2)\n",
        "\n",
        "*   Разбить данные на **train_text**, **train_labels** и **test_text**, **test_labels**\n",
        "*   На основе **train_text** и **train_labels** матриц обучить модель. В данном случае у нас классификация, а не регрессия. Нужна будет соответствующая модель. Например **DecisionTreeClassifier**. В остальном ее применение такое же как и было с **LinearRegression**\n",
        "*   Проверить точность на **test_text** и **test_labels**. Нужна будет другая метрика, тк задача классификации, например **f1_score** "
      ]
    },
    {
      "cell_type": "code",
      "metadata": {
        "colab": {
          "base_uri": "https://localhost:8080/"
        },
        "id": "jpCrMQUx0iPC",
        "outputId": "3bdaf77b-81d4-4711-80e3-7839b7f86275"
      },
      "source": [
        "from sklearn.tree import DecisionTreeClassifier\n",
        "from sklearn.metrics import f1_score, accuracy_score\n",
        "\n",
        "# Пример использования f1_score\n",
        "y_true = [1,2,3,1,2,3]\n",
        "y_pred = [1,2,3,1,1,1]\n",
        "score = f1_score(y_true, y_pred, average='micro')\n",
        "score # Чем ближе к 1, тем лучше"
      ],
      "execution_count": null,
      "outputs": [
        {
          "output_type": "execute_result",
          "data": {
            "text/plain": [
              "0.6666666666666666"
            ]
          },
          "metadata": {},
          "execution_count": 34
        }
      ]
    },
    {
      "cell_type": "code",
      "metadata": {
        "id": "smFTQAFJ9eTB"
      },
      "source": [
        "train_text, test_text  = train_test_split(df['stemmed_overview'], test_size=0.25, random_state=42)"
      ],
      "execution_count": null,
      "outputs": []
    },
    {
      "cell_type": "code",
      "metadata": {
        "id": "15cZw5ju-ZKN"
      },
      "source": [
        "train_labels, test_labels = train_test_split(df['label'], test_size=0.25, random_state=42)"
      ],
      "execution_count": null,
      "outputs": []
    },
    {
      "cell_type": "code",
      "metadata": {
        "id": "9ckievGrIS--"
      },
      "source": [
        ""
      ],
      "execution_count": null,
      "outputs": []
    },
    {
      "cell_type": "code",
      "metadata": {
        "id": "2TafV-Lu-dmZ"
      },
      "source": [
        "all_text = pd.concat([train_text, test_text])"
      ],
      "execution_count": null,
      "outputs": []
    },
    {
      "cell_type": "code",
      "metadata": {
        "id": "IkMRtVVePkym"
      },
      "source": [
        "from sklearn.feature_extraction.text import TfidfVectorizer, CountVectorizer\n",
        "from sklearn.linear_model import LinearRegression"
      ],
      "execution_count": null,
      "outputs": []
    },
    {
      "cell_type": "code",
      "metadata": {
        "id": "5hsiyoK4EwOp"
      },
      "source": [
        "word_vectorizer = CountVectorizer()"
      ],
      "execution_count": null,
      "outputs": []
    },
    {
      "cell_type": "code",
      "metadata": {
        "id": "U3BZClIZEx-v"
      },
      "source": [
        "word_vectorizer.fit(all_text)\n",
        "\n",
        "train_word_features = word_vectorizer.transform(train_text)\n",
        "test_word_features = word_vectorizer.transform(test_text)"
      ],
      "execution_count": null,
      "outputs": []
    },
    {
      "cell_type": "code",
      "metadata": {
        "colab": {
          "base_uri": "https://localhost:8080/"
        },
        "id": "dNLxUA-qE3EX",
        "outputId": "a8fd9fd3-c8a1-45c4-9ec9-a16b6c0869fb"
      },
      "source": [
        "train_word_features"
      ],
      "execution_count": null,
      "outputs": [
        {
          "output_type": "execute_result",
          "data": {
            "text/plain": [
              "<1341x1860 sparse matrix of type '<class 'numpy.int64'>'\n",
              "\twith 4269 stored elements in Compressed Sparse Row format>"
            ]
          },
          "metadata": {},
          "execution_count": 41
        }
      ]
    },
    {
      "cell_type": "code",
      "metadata": {
        "id": "NiNJfTyYGqaS"
      },
      "source": [
        "from sklearn.metrics import mean_absolute_error\n",
        "import numpy as np\n"
      ],
      "execution_count": null,
      "outputs": []
    },
    {
      "cell_type": "code",
      "metadata": {
        "colab": {
          "base_uri": "https://localhost:8080/"
        },
        "id": "AquBDOggMGm8",
        "outputId": "aefc6e28-4fce-40c3-cedd-04cfb1a4a644"
      },
      "source": [
        "regression = LinearRegression()\n",
        "\n",
        "\n",
        "regression.fit(train_word_features, train_labels)\n",
        "\n",
        "\n",
        "pred = regression.predict(test_word_features)\n",
        "mean_absolute_error(test_labels, pred)"
      ],
      "execution_count": null,
      "outputs": [
        {
          "output_type": "execute_result",
          "data": {
            "text/plain": [
              "3.3247299055829194"
            ]
          },
          "metadata": {},
          "execution_count": 43
        }
      ]
    },
    {
      "cell_type": "code",
      "metadata": {
        "id": "ceiAUArc-09R"
      },
      "source": [
        "#фиксируем параметры псевдослучайного генератора\n",
        "seed = 42\n",
        "\n",
        "np.random.seed(seed)"
      ],
      "execution_count": null,
      "outputs": []
    },
    {
      "cell_type": "code",
      "metadata": {
        "id": "b0poDXvx_D9v"
      },
      "source": [
        "#train_text, test_text   train_labels, test_labels"
      ],
      "execution_count": null,
      "outputs": []
    },
    {
      "cell_type": "code",
      "metadata": {
        "id": "3P9BzihVDE6U"
      },
      "source": [
        "from sklearn.model_selection import cross_val_score\n",
        "\n",
        "import numpy as np\n",
        "import pandas as pd\n",
        "\n",
        "from sklearn.feature_extraction.text import TfidfVectorizer, CountVectorizer\n",
        "from sklearn.linear_model import LinearRegression"
      ],
      "execution_count": null,
      "outputs": []
    },
    {
      "cell_type": "code",
      "metadata": {
        "id": "O4glL6HW_E4a"
      },
      "source": [
        "from sklearn.tree import DecisionTreeClassifier\n",
        "#clf_tree = DecisionTreeClassifier(criterion='entropy', max_depth=3, random_state=17)\n",
        "\n",
        "\n",
        "results = pd.DataFrame()\n",
        "for max_depth in range(1, 100, 2):\n",
        "    clf = DecisionTreeClassifier(random_state=seed, max_depth=max_depth)\n",
        "    clf = clf.fit(train_word_features, train_labels)\n",
        "    preds_train = clf.predict(train_word_features)\n",
        "    preds_test = clf.predict(test_word_features)\n",
        "    \n",
        "    results_dict = {\n",
        "                    'acc_train':[accuracy_score(train_labels, preds_train)],\n",
        "                    'f1_train':[f1_score(train_labels, preds_train, average='micro')],\n",
        "                    }\n",
        "    \n",
        "    results_df = pd.DataFrame.from_dict(results_dict)\n",
        "    results = results.append(results_df)\n",
        "\n",
        "results.reset_index(inplace=True, drop=True)\n",
        "\n",
        "\n"
      ],
      "execution_count": null,
      "outputs": []
    },
    {
      "cell_type": "code",
      "metadata": {
        "colab": {
          "base_uri": "https://localhost:8080/"
        },
        "id": "F0JA0p3PMDRF",
        "outputId": "78b350bc-d05a-41b8-f49d-9634b5c6729c"
      },
      "source": [
        "results_dict"
      ],
      "execution_count": null,
      "outputs": [
        {
          "output_type": "execute_result",
          "data": {
            "text/plain": [
              "{'acc_train': [0.843400447427293], 'f1_train': [0.8434004474272931]}"
            ]
          },
          "metadata": {},
          "execution_count": 48
        }
      ]
    },
    {
      "cell_type": "code",
      "metadata": {
        "colab": {
          "base_uri": "https://localhost:8080/",
          "height": 81
        },
        "id": "P2yRL91BM8vN",
        "outputId": "ba4e2abb-d1b6-4fcd-ed92-15567d46fbf8"
      },
      "source": [
        " results_df"
      ],
      "execution_count": null,
      "outputs": [
        {
          "output_type": "execute_result",
          "data": {
            "text/html": [
              "<div>\n",
              "<style scoped>\n",
              "    .dataframe tbody tr th:only-of-type {\n",
              "        vertical-align: middle;\n",
              "    }\n",
              "\n",
              "    .dataframe tbody tr th {\n",
              "        vertical-align: top;\n",
              "    }\n",
              "\n",
              "    .dataframe thead th {\n",
              "        text-align: right;\n",
              "    }\n",
              "</style>\n",
              "<table border=\"1\" class=\"dataframe\">\n",
              "  <thead>\n",
              "    <tr style=\"text-align: right;\">\n",
              "      <th></th>\n",
              "      <th>acc_train</th>\n",
              "      <th>f1_train</th>\n",
              "    </tr>\n",
              "  </thead>\n",
              "  <tbody>\n",
              "    <tr>\n",
              "      <th>0</th>\n",
              "      <td>0.8434</td>\n",
              "      <td>0.8434</td>\n",
              "    </tr>\n",
              "  </tbody>\n",
              "</table>\n",
              "</div>"
            ],
            "text/plain": [
              "   acc_train  f1_train\n",
              "0     0.8434    0.8434"
            ]
          },
          "metadata": {},
          "execution_count": 49
        }
      ]
    },
    {
      "cell_type": "code",
      "metadata": {
        "id": "3zWcJFOKNlF9"
      },
      "source": [
        " results "
      ],
      "execution_count": null,
      "outputs": []
    },
    {
      "cell_type": "markdown",
      "metadata": {
        "id": "bF9Xm3n1lHO6"
      },
      "source": [
        "# Тематическое моделирование (занятие 3)\n",
        "*   Примените один из алгоритмов тематического моделирование\n",
        "*   Оцените полученные темы, отражают ли они темы разметки?"
      ]
    },
    {
      "cell_type": "markdown",
      "metadata": {
        "id": "mRTuivXYAVEV"
      },
      "source": [
        "## Решение"
      ]
    },
    {
      "cell_type": "code",
      "metadata": {
        "colab": {
          "base_uri": "https://localhost:8080/",
          "height": 424
        },
        "id": "Zk-yx0NkysNt",
        "outputId": "72be70f5-c2a7-4d5f-837f-104190aa24fd"
      },
      "source": [
        "df"
      ],
      "execution_count": null,
      "outputs": [
        {
          "output_type": "execute_result",
          "data": {
            "text/html": [
              "<div>\n",
              "<style scoped>\n",
              "    .dataframe tbody tr th:only-of-type {\n",
              "        vertical-align: middle;\n",
              "    }\n",
              "\n",
              "    .dataframe tbody tr th {\n",
              "        vertical-align: top;\n",
              "    }\n",
              "\n",
              "    .dataframe thead th {\n",
              "        text-align: right;\n",
              "    }\n",
              "</style>\n",
              "<table border=\"1\" class=\"dataframe\">\n",
              "  <thead>\n",
              "    <tr style=\"text-align: right;\">\n",
              "      <th></th>\n",
              "      <th>id</th>\n",
              "      <th>URL</th>\n",
              "      <th>Название</th>\n",
              "      <th>Предмет</th>\n",
              "      <th>label</th>\n",
              "      <th>count_words</th>\n",
              "      <th>stemmed_overview</th>\n",
              "    </tr>\n",
              "  </thead>\n",
              "  <tbody>\n",
              "    <tr>\n",
              "      <th>0</th>\n",
              "      <td>72894053</td>\n",
              "      <td>https://vk.com/club72894053</td>\n",
              "      <td>Биология: материалы к олимпиадам и экзаменам</td>\n",
              "      <td>биология</td>\n",
              "      <td>0</td>\n",
              "      <td>6</td>\n",
              "      <td>биолог материал олимпиад экзамен</td>\n",
              "    </tr>\n",
              "    <tr>\n",
              "      <th>1</th>\n",
              "      <td>47693493</td>\n",
              "      <td>https://vk.com/club47693493</td>\n",
              "      <td>Биология+химия-easy;) c Aleksandra LearnBiolog...</td>\n",
              "      <td>биология</td>\n",
              "      <td>0</td>\n",
              "      <td>4</td>\n",
              "      <td>биология+химия-еас c aleksandr learnbiolog</td>\n",
              "    </tr>\n",
              "    <tr>\n",
              "      <th>2</th>\n",
              "      <td>37948240</td>\n",
              "      <td>https://vk.com/club37948240</td>\n",
              "      <td>Биология</td>\n",
              "      <td>биология</td>\n",
              "      <td>0</td>\n",
              "      <td>1</td>\n",
              "      <td>биолог</td>\n",
              "    </tr>\n",
              "    <tr>\n",
              "      <th>3</th>\n",
              "      <td>109143834</td>\n",
              "      <td>https://vk.com/club109143834</td>\n",
              "      <td>B.o.S - Биология Спорта</td>\n",
              "      <td>биология</td>\n",
              "      <td>0</td>\n",
              "      <td>4</td>\n",
              "      <td>b.o.s биолог спорт</td>\n",
              "    </tr>\n",
              "    <tr>\n",
              "      <th>4</th>\n",
              "      <td>32140813</td>\n",
              "      <td>https://vk.com/club32140813</td>\n",
              "      <td>Углублённый Биолог</td>\n",
              "      <td>биология</td>\n",
              "      <td>0</td>\n",
              "      <td>2</td>\n",
              "      <td>углублен биолог</td>\n",
              "    </tr>\n",
              "    <tr>\n",
              "      <th>...</th>\n",
              "      <td>...</td>\n",
              "      <td>...</td>\n",
              "      <td>...</td>\n",
              "      <td>...</td>\n",
              "      <td>...</td>\n",
              "      <td>...</td>\n",
              "      <td>...</td>\n",
              "    </tr>\n",
              "    <tr>\n",
              "      <th>1784</th>\n",
              "      <td>43732804</td>\n",
              "      <td>https://vk.com/club43732804</td>\n",
              "      <td>Кодексы и законы РФ</td>\n",
              "      <td>юриспруденция</td>\n",
              "      <td>18</td>\n",
              "      <td>4</td>\n",
              "      <td>кодекс закон рф</td>\n",
              "    </tr>\n",
              "    <tr>\n",
              "      <th>1785</th>\n",
              "      <td>28799949</td>\n",
              "      <td>https://vk.com/club28799949</td>\n",
              "      <td>Закон.ру</td>\n",
              "      <td>юриспруденция</td>\n",
              "      <td>18</td>\n",
              "      <td>1</td>\n",
              "      <td>закон.р</td>\n",
              "    </tr>\n",
              "    <tr>\n",
              "      <th>1786</th>\n",
              "      <td>42832964</td>\n",
              "      <td>https://vk.com/club42832964</td>\n",
              "      <td>Колледж АлтГУ</td>\n",
              "      <td>вуз</td>\n",
              "      <td>19</td>\n",
              "      <td>2</td>\n",
              "      <td>колледж алтг</td>\n",
              "    </tr>\n",
              "    <tr>\n",
              "      <th>1787</th>\n",
              "      <td>40575907</td>\n",
              "      <td>https://vk.com/club40575907</td>\n",
              "      <td>КиберЛенинка</td>\n",
              "      <td>наука</td>\n",
              "      <td>20</td>\n",
              "      <td>1</td>\n",
              "      <td>киберленинк</td>\n",
              "    </tr>\n",
              "    <tr>\n",
              "      <th>1788</th>\n",
              "      <td>938295</td>\n",
              "      <td>https://vk.com/club938295</td>\n",
              "      <td>ИРНИТУ (ИрГТУ)</td>\n",
              "      <td>вуз</td>\n",
              "      <td>19</td>\n",
              "      <td>2</td>\n",
              "      <td>ирнит иргт</td>\n",
              "    </tr>\n",
              "  </tbody>\n",
              "</table>\n",
              "<p>1789 rows × 7 columns</p>\n",
              "</div>"
            ],
            "text/plain": [
              "             id  ...                            stemmed_overview\n",
              "0      72894053  ...            биолог материал олимпиад экзамен\n",
              "1      47693493  ...  биология+химия-еас c aleksandr learnbiolog\n",
              "2      37948240  ...                                      биолог\n",
              "3     109143834  ...                          b.o.s биолог спорт\n",
              "4      32140813  ...                             углублен биолог\n",
              "...         ...  ...                                         ...\n",
              "1784   43732804  ...                             кодекс закон рф\n",
              "1785   28799949  ...                                     закон.р\n",
              "1786   42832964  ...                                колледж алтг\n",
              "1787   40575907  ...                                 киберленинк\n",
              "1788     938295  ...                                  ирнит иргт\n",
              "\n",
              "[1789 rows x 7 columns]"
            ]
          },
          "metadata": {},
          "execution_count": 52
        }
      ]
    },
    {
      "cell_type": "code",
      "metadata": {
        "colab": {
          "base_uri": "https://localhost:8080/"
        },
        "id": "pRWOz_qxzUJY",
        "outputId": "9ab7cc10-1c7a-449e-e8f9-1ba7838359ad"
      },
      "source": [
        "import nltk\n",
        "nltk.download(\"stopwords\")"
      ],
      "execution_count": null,
      "outputs": [
        {
          "output_type": "stream",
          "name": "stdout",
          "text": [
            "[nltk_data] Downloading package stopwords to /root/nltk_data...\n",
            "[nltk_data]   Package stopwords is already up-to-date!\n"
          ]
        },
        {
          "output_type": "execute_result",
          "data": {
            "text/plain": [
              "True"
            ]
          },
          "metadata": {},
          "execution_count": 53
        }
      ]
    },
    {
      "cell_type": "code",
      "metadata": {
        "id": "hS0ayqvgzWig"
      },
      "source": [
        "from nltk.corpus import stopwords\n",
        "import re, string\n",
        "from nltk.stem.snowball import SnowballStemmer"
      ],
      "execution_count": null,
      "outputs": []
    },
    {
      "cell_type": "markdown",
      "metadata": {
        "id": "gXK5tSkhzE7I"
      },
      "source": [
        "Алгоритм выделение коллокаций уже реализованно в библиотеке Gensim, но он начинает работать если обучить его на достаточно большом корпусе. Но для этого переведем наш корпус из коллекции документов, в коллекцию документов — токенов."
      ]
    },
    {
      "cell_type": "code",
      "metadata": {
        "colab": {
          "base_uri": "https://localhost:8080/"
        },
        "id": "fLyKBmn0ytQg",
        "outputId": "6e833223-f37e-4c89-c5b2-e3072f3c5c0b"
      },
      "source": [
        "text_clean= []\n",
        "for index, row in df.iterrows():\n",
        "        text_clean.append(row['stemmed_overview'].split())\n",
        "\n",
        "from gensim.models import Phrases\n",
        "bigram = Phrases(text_clean) # Создаем биграммы на основе корпуса\n",
        "trigram = Phrases(bigram[text_clean])# Создаем триграммы на основе корпуса\n",
        "\n",
        "for idx in range(len(text_clean)):\n",
        "    for token in bigram[text_clean[idx]]:\n",
        "        if '_' in token:\n",
        "            # Токен это би грамма, добавим в документ.\n",
        "            text_clean[idx].append(token)\n",
        "    for token in trigram[text_clean[idx]]:\n",
        "        if '_' in token:\n",
        "\t\t\t# Токен это три грамма, добавим в документ.\n",
        "\t\t\t      text_clean[idx].append(token)"
      ],
      "execution_count": null,
      "outputs": [
        {
          "output_type": "stream",
          "name": "stderr",
          "text": [
            "/usr/local/lib/python3.7/dist-packages/gensim/models/phrases.py:598: UserWarning: For a faster implementation, use the gensim.models.phrases.Phraser class\n",
            "  warnings.warn(\"For a faster implementation, use the gensim.models.phrases.Phraser class\")\n"
          ]
        }
      ]
    },
    {
      "cell_type": "markdown",
      "metadata": {
        "id": "DtC0SHxn0WGB"
      },
      "source": [
        "Для обучения LDA модели осталось выполнить всего лишь один шаг, преобразовать наш корпус в словарь частот."
      ]
    },
    {
      "cell_type": "code",
      "metadata": {
        "colab": {
          "base_uri": "https://localhost:8080/"
        },
        "id": "Lkv91Id70X1W",
        "outputId": "889e3138-a867-4b82-c22f-c6072811812d"
      },
      "source": [
        "from gensim.corpora.dictionary import Dictionary\n",
        "from numpy import array\n",
        "dictionary = Dictionary(text_clean)\n",
        "dictionary.filter_extremes(no_below=4, no_above=0.2)\n",
        "#Создадим словарь и корпус для lda модели\n",
        "corpus = [dictionary.doc2bow(doc) for doc in text_clean]\n",
        "print('Количество уникальных токенов: %d' % len(dictionary))\n",
        "print('Количество документов: %d' % len(corpus))"
      ],
      "execution_count": null,
      "outputs": [
        {
          "output_type": "stream",
          "name": "stdout",
          "text": [
            "Количество уникальных токенов: 254\n",
            "Количество документов: 1789\n"
          ]
        }
      ]
    },
    {
      "cell_type": "markdown",
      "metadata": {
        "id": "z9M_GNjm0bj_"
      },
      "source": [
        "После создания словаря частот, можно перейти к созданию LDA модели. Установим гиперпараметр num_topics равным 10 и сразу посмотрим какие группы тематик выявила модель LDA."
      ]
    },
    {
      "cell_type": "code",
      "metadata": {
        "colab": {
          "base_uri": "https://localhost:8080/"
        },
        "id": "Snf88isC0n1U",
        "outputId": "d12074c9-0489-4290-922d-eedab6b7140a"
      },
      "source": [
        "from gensim.models.ldamulticore import LdaMulticore\n",
        "model=LdaMulticore(corpus=corpus,id2word=dictionary, num_topics=10)\n",
        "model.show_topics()"
      ],
      "execution_count": null,
      "outputs": [
        {
          "output_type": "execute_result",
          "data": {
            "text/plain": [
              "[(0,\n",
              "  '0.068*\"литератур\" + 0.042*\"советск\" + 0.042*\"решен_задач\" + 0.032*\"егэ\" + 0.032*\"слов_ден\" + 0.027*\"нгу\" + 0.021*\"©\" + 0.021*\"литературн\" + 0.021*\"юрист\" + 0.018*\"хим\"'),\n",
              " (1,\n",
              "  '0.087*\"психолог\" + 0.046*\"егэ\" + 0.040*\"корейск_язык\" + 0.040*\"биолог\" + 0.031*\"огэ\" + 0.030*\"язык\" + 0.028*\"истор\" + 0.028*\"онлайн\" + 0.028*\"абитуриент\" + 0.025*\"художник\"'),\n",
              " (2,\n",
              "  '0.129*\"егэ\" + 0.097*\"математик\" + 0.059*\"2017\" + 0.030*\"центр\" + 0.027*\"китайск_язык\" + 0.024*\"ответ\" + 0.024*\"физик\" + 0.024*\"биолог\" + 0.024*\"подслуша\" + 0.023*\"огэ\"'),\n",
              " (3,\n",
              "  '0.105*\"егэ\" + 0.069*\"английск\" + 0.035*\"язык\" + 0.034*\"ответ\" + 0.029*\"истор\" + 0.029*\"«_карате-егэ\" + 0.024*\"2017\" + 0.024*\"корейск_язык\" + 0.021*\"английск_язык\" + 0.020*\"математик\"'),\n",
              " (4,\n",
              "  '0.047*\"решен_задач\" + 0.047*\"государствен_университет\" + 0.041*\"росс\" + 0.038*\"язык\" + 0.031*\"истор\" + 0.025*\"омар_хай\" + 0.025*\"мир\" + 0.024*\"искусств\" + 0.022*\"ответ\" + 0.022*\"2017\"'),\n",
              " (5,\n",
              "  '0.157*\"егэ\" + 0.091*\"огэ\" + 0.071*\"ответ\" + 0.040*\"истор\" + 0.038*\"ги\" + 0.035*\"факт_истор\" + 0.027*\"2017\" + 0.027*\"обществознан\" + 0.023*\"подготовк\" + 0.023*\"2016\"'),\n",
              " (6,\n",
              "  '0.078*\"английск\" + 0.042*\"истор\" + 0.036*\"цитат\" + 0.036*\"хим\" + 0.028*\"егэ\" + 0.025*\"огэ\" + 0.025*\"урок_рисован\" + 0.025*\"english\" + 0.025*\"физик\" + 0.022*\"книг\"'),\n",
              " (7,\n",
              "  '0.119*\"русск_язык\" + 0.115*\"язык\" + 0.074*\"егэ\" + 0.065*\"японск_язык\" + 0.042*\"русск\" + 0.035*\"огэ\" + 0.023*\"японск\" + 0.022*\"английск\" + 0.021*\"образован\" + 0.019*\"2017\"'),\n",
              " (8,\n",
              "  '0.100*\"психолог\" + 0.074*\"егэ\" + 0.066*\"немецк_язык\" + 0.050*\"2017\" + 0.048*\"урок_рисован\" + 0.034*\"язык\" + 0.022*\"немецк\" + 0.020*\"истор\" + 0.018*\"русск_язык\" + 0.018*\"китайск_язык\"'),\n",
              " (9,\n",
              "  '0.083*\"книг\" + 0.075*\"егэ\" + 0.056*\"язык\" + 0.045*\"ответ\" + 0.043*\"английск\" + 0.032*\"2017\" + 0.032*\"подготовк\" + 0.030*\"огэ\" + 0.030*\"английск_язык\" + 0.027*\"english\"')]"
            ]
          },
          "metadata": {},
          "execution_count": 109
        }
      ]
    },
    {
      "cell_type": "markdown",
      "metadata": {
        "id": "D6Gl6noI0r6y"
      },
      "source": [
        "Текстом можно посмотреть и в графическом виде. В этом нам поможет pyLDAvis"
      ]
    },
    {
      "cell_type": "code",
      "metadata": {
        "id": "atjk9ksZ8-vZ"
      },
      "source": [
        "import gensim\n",
        "import gensim.corpora as corpora\n",
        "from gensim.utils import simple_preprocess\n",
        "from gensim.models import CoherenceModel"
      ],
      "execution_count": null,
      "outputs": []
    },
    {
      "cell_type": "markdown",
      "metadata": {
        "id": "cYwawFbB_G8R"
      },
      "source": [
        " Подсчет c_v когерентности для различного количества тем\n",
        "\tdictionary : Gensim словарь\n",
        "\tcorpus : Gensim корпус\n",
        "\ttexts : Список текста\n",
        "\tlimit : Максимальное количество тем\n",
        "\t\n",
        "\tmodel_list : Список LDA моделей\n",
        "\tcoherence_values :Когерентности, соответствующие модели LDA с количеством тем"
      ]
    },
    {
      "cell_type": "code",
      "metadata": {
        "id": "AtfA-v0a1BC4"
      },
      "source": [
        "def compute_coherence_values(dictionary, corpus, texts, limit, start=2, step=3):\n",
        "    \n",
        "    coherence_values = []\n",
        "    model_list = []\n",
        "    for num_topics in range(start, limit, step):\n",
        "        model=LdaMulticore(corpus=corpus,id2word=dictionary, num_topics=num_topics)\n",
        "        model_list.append(model)\n",
        "        coherencemodel = CoherenceModel(model=model, texts=texts, dictionary=dictionary, coherence='c_v')\n",
        "        coherence_values.append(coherencemodel.get_coherence())\n",
        "    return model_list, coherence_values\n",
        "\t\n",
        "# Вызовем функцию и посчитаем\n",
        "model_list, coherence_values = compute_coherence_values(dictionary=dictionary, corpus=corpus, texts=text_clean, start=2, limit=40, step=2)"
      ],
      "execution_count": null,
      "outputs": []
    },
    {
      "cell_type": "markdown",
      "metadata": {
        "id": "m5jxIVwD9UKu"
      },
      "source": [
        "Для понимания согласованности визуализируем как количество тем влияют на согласованность, создадим график при помощи matplotlib."
      ]
    },
    {
      "cell_type": "code",
      "metadata": {
        "colab": {
          "base_uri": "https://localhost:8080/",
          "height": 279
        },
        "id": "XBYfpQFp9XJZ",
        "outputId": "37b566b7-01ec-4997-e27a-567551123884"
      },
      "source": [
        "import matplotlib.pyplot as plt\n",
        "limit=40; start=2; step=2;\n",
        "x = range(start, limit, step)\n",
        "plt.plot(x, coherence_values)\n",
        "plt.xlabel(\"Количество тем\")\n",
        "plt.ylabel(\"Согласованность\")\n",
        "plt.legend((\"coherence_values\"), loc='best')\n",
        "plt.show()"
      ],
      "execution_count": null,
      "outputs": [
        {
          "output_type": "display_data",
          "data": {
            "image/png": "[encoded data removed]",
            "text/plain": [
              "<Figure size 432x288 with 1 Axes>"
            ]
          },
          "metadata": {
            "needs_background": "light"
          }
        }
      ]
    },
    {
      "cell_type": "markdown",
      "metadata": {
        "id": "cUN6Io4uAnbW"
      },
      "source": [
        "## ## Вывод: очень маленькое количество данных для обучения модели. Очень мало слов в каждом описании группы для обучения модели."
      ]
    }
  ]
}